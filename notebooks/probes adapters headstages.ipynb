{
 "cells": [
  {
   "cell_type": "markdown",
   "metadata": {},
   "source": [
    "#### Documentation on insertion: https://docs.datajoint.io/python/manipulation/1-Insert.html"
   ]
  },
  {
   "cell_type": "markdown",
   "metadata": {},
   "source": [
    "go one folder up from notebooks folder if needed."
   ]
  },
  {
   "cell_type": "code",
   "execution_count": 2,
   "metadata": {},
   "outputs": [
    {
     "name": "stdout",
     "output_type": "stream",
     "text": [
      "V:\\Code\\DataJoint\\orofacial_pipeline\n"
     ]
    }
   ],
   "source": [
    "cd .."
   ]
  },
  {
   "cell_type": "code",
   "execution_count": 3,
   "metadata": {},
   "outputs": [
    {
     "name": "stdout",
     "output_type": "stream",
     "text": [
      "Connecting vincent@10.122.170.76:3306\n"
     ]
    }
   ],
   "source": [
    "from pipeline import lab"
   ]
  },
  {
   "cell_type": "code",
   "execution_count": 4,
   "metadata": {},
   "outputs": [],
   "source": [
    "#lab.ProbeType.create_silicon_probe('CNT ASSY-1 P2')"
   ]
  },
  {
   "cell_type": "markdown",
   "metadata": {},
   "source": [
    "#### Probes"
   ]
  },
  {
   "cell_type": "code",
   "execution_count": 17,
   "metadata": {},
   "outputs": [
    {
     "data": {
      "text/html": [
       "\n",
       "        \n",
       "        <style type=\"text/css\">\n",
       "            .Relation{\n",
       "                border-collapse:collapse;\n",
       "            }\n",
       "            .Relation th{\n",
       "                background: #A0A0A0; color: #ffffff; padding:4px; border:#f0e0e0 1px solid;\n",
       "                font-weight: normal; font-family: monospace; font-size: 100%;\n",
       "            }\n",
       "            .Relation td{\n",
       "                padding:4px; border:#f0e0e0 1px solid; font-size:100%;\n",
       "            }\n",
       "            .Relation tr:nth-child(odd){\n",
       "                background: #ffffff;\n",
       "            }\n",
       "            .Relation tr:nth-child(even){\n",
       "                background: #f3f1ff;\n",
       "            }\n",
       "            /* Tooltip container */\n",
       "            .djtooltip {\n",
       "            }\n",
       "            /* Tooltip text */\n",
       "            .djtooltip .djtooltiptext {\n",
       "                visibility: hidden;\n",
       "                width: 120px;\n",
       "                background-color: black;\n",
       "                color: #fff;\n",
       "                text-align: center;\n",
       "                padding: 5px 0;\n",
       "                border-radius: 6px;\n",
       "                /* Position the tooltip text - see examples below! */\n",
       "                position: absolute;\n",
       "                z-index: 1;\n",
       "            }\n",
       "            #primary {\n",
       "                font-weight: bold;\n",
       "                color: black;\n",
       "            }\n",
       "\n",
       "            #nonprimary {\n",
       "                font-weight: normal;\n",
       "                color: white;\n",
       "            }\n",
       "\n",
       "            /* Show the tooltip text when you mouse over the tooltip container */\n",
       "            .djtooltip:hover .djtooltiptext {\n",
       "                visibility: visible;\n",
       "            }\n",
       "        </style>\n",
       "        \n",
       "        <b>represents a physical probe</b>\n",
       "            <div style=\"max-height:1000px;max-width:1500px;overflow:auto;\">\n",
       "            <table border=\"1\" class=\"Relation\">\n",
       "                <thead> <tr style=\"text-align: right;\"> <th> <div class=\"djtooltip\">\n",
       "                                <p id=\"primary\">probe</p>\n",
       "                                <span class=\"djtooltiptext\">unique identifier for this model of probe (e.g. part number)</span>\n",
       "                            </div></th><th><div class=\"djtooltip\">\n",
       "                                <p id=\"nonprimary\">probe_type</p>\n",
       "                                <span class=\"djtooltiptext\">e.g. neuropixels_1.0</span>\n",
       "                            </div></th><th><div class=\"djtooltip\">\n",
       "                                <p id=\"nonprimary\">probe_comment</p>\n",
       "                                <span class=\"djtooltiptext\"></span>\n",
       "                            </div> </th> </tr> </thead>\n",
       "                <tbody> <tr> <td>4678</td>\n",
       "<td>CNT ASSY-1 P2</td>\n",
       "<td>Probe40</td></tr><tr><td>6264</td>\n",
       "<td>CNT ASSY-37 P2</td>\n",
       "<td>Probe44</td></tr><tr><td>6669</td>\n",
       "<td>CNT ASSY-37 P2</td>\n",
       "<td>Probe45</td></tr><tr><td>7C1D</td>\n",
       "<td>NN Buzsaki32 2FO</td>\n",
       "<td>Probe36</td> </tr> </tbody>\n",
       "            </table>\n",
       "            \n",
       "            <p>Total: 4</p></div>\n",
       "            "
      ],
      "text/plain": [
       "*probe    probe_type     probe_comment \n",
       "+-------+ +------------+ +------------+\n",
       "4678      CNT ASSY-1 P2  Probe40       \n",
       "6264      CNT ASSY-37 P2 Probe44       \n",
       "6669      CNT ASSY-37 P2 Probe45       \n",
       "7C1D      NN Buzsaki32 2 Probe36       \n",
       " (Total: 4)"
      ]
     },
     "execution_count": 17,
     "metadata": {},
     "output_type": "execute_result"
    }
   ],
   "source": [
    "lab.Probe()"
   ]
  },
  {
   "cell_type": "code",
   "execution_count": 12,
   "metadata": {},
   "outputs": [],
   "source": [
    "#(lab.Probe & {'probe': '6669'}).delete()\n",
    "lab.Probe.insert1(('6669','CNT ASSY-37 P2','Probe45'))\n",
    "#lab.Probe.insert1(('6264','CNT ASSY-37 P2','Probe44'))\n",
    "#lab.Probe.insert1(('4678','CNT ASSY-1 P2','Probe40'))\n",
    "#lab.Probe.insert1(('7C1D','NN Buzsaki32 2FO','Probe36'))"
   ]
  },
  {
   "cell_type": "code",
   "execution_count": 41,
   "metadata": {},
   "outputs": [
    {
     "data": {
      "text/html": [
       "\n",
       "        \n",
       "        <style type=\"text/css\">\n",
       "            .Relation{\n",
       "                border-collapse:collapse;\n",
       "            }\n",
       "            .Relation th{\n",
       "                background: #A0A0A0; color: #ffffff; padding:4px; border:#f0e0e0 1px solid;\n",
       "                font-weight: normal; font-family: monospace; font-size: 100%;\n",
       "            }\n",
       "            .Relation td{\n",
       "                padding:4px; border:#f0e0e0 1px solid; font-size:100%;\n",
       "            }\n",
       "            .Relation tr:nth-child(odd){\n",
       "                background: #ffffff;\n",
       "            }\n",
       "            .Relation tr:nth-child(even){\n",
       "                background: #f3f1ff;\n",
       "            }\n",
       "            /* Tooltip container */\n",
       "            .djtooltip {\n",
       "            }\n",
       "            /* Tooltip text */\n",
       "            .djtooltip .djtooltiptext {\n",
       "                visibility: hidden;\n",
       "                width: 120px;\n",
       "                background-color: black;\n",
       "                color: #fff;\n",
       "                text-align: center;\n",
       "                padding: 5px 0;\n",
       "                border-radius: 6px;\n",
       "                /* Position the tooltip text - see examples below! */\n",
       "                position: absolute;\n",
       "                z-index: 1;\n",
       "            }\n",
       "            #primary {\n",
       "                font-weight: bold;\n",
       "                color: black;\n",
       "            }\n",
       "\n",
       "            #nonprimary {\n",
       "                font-weight: normal;\n",
       "                color: white;\n",
       "            }\n",
       "\n",
       "            /* Show the tooltip text when you mouse over the tooltip container */\n",
       "            .djtooltip:hover .djtooltiptext {\n",
       "                visibility: visible;\n",
       "            }\n",
       "        </style>\n",
       "        \n",
       "        <b></b>\n",
       "            <div style=\"max-height:1000px;max-width:1500px;overflow:auto;\">\n",
       "            <table border=\"1\" class=\"Relation\">\n",
       "                <thead> <tr style=\"text-align: right;\"> <th> <div class=\"djtooltip\">\n",
       "                                <p id=\"primary\">probe_type</p>\n",
       "                                <span class=\"djtooltiptext\">e.g. neuropixels_1.0</span>\n",
       "                            </div></th><th><div class=\"djtooltip\">\n",
       "                                <p id=\"primary\">electrode</p>\n",
       "                                <span class=\"djtooltiptext\">electrode index, starts at 1</span>\n",
       "                            </div></th><th><div class=\"djtooltip\">\n",
       "                                <p id=\"nonprimary\">shank</p>\n",
       "                                <span class=\"djtooltiptext\">shank index, starts at 1, advance left to right</span>\n",
       "                            </div></th><th><div class=\"djtooltip\">\n",
       "                                <p id=\"nonprimary\">shank_col</p>\n",
       "                                <span class=\"djtooltiptext\">column index, starts at 1, advance left to right</span>\n",
       "                            </div></th><th><div class=\"djtooltip\">\n",
       "                                <p id=\"nonprimary\">shank_row</p>\n",
       "                                <span class=\"djtooltiptext\">row index, starts at 1, advance tip to tail</span>\n",
       "                            </div></th><th><div class=\"djtooltip\">\n",
       "                                <p id=\"nonprimary\">x_coord</p>\n",
       "                                <span class=\"djtooltiptext\">(um) x coordinate of the electrode within the probe, (0, 0) is the bottom left corner of the probe</span>\n",
       "                            </div></th><th><div class=\"djtooltip\">\n",
       "                                <p id=\"nonprimary\">y_coord</p>\n",
       "                                <span class=\"djtooltiptext\">(um) y coordinate of the electrode within the probe, (0, 0) is the bottom left corner of the probe</span>\n",
       "                            </div></th><th><div class=\"djtooltip\">\n",
       "                                <p id=\"nonprimary\">z_coord</p>\n",
       "                                <span class=\"djtooltiptext\">(um) z coordinate of the electrode within the probe, (0, 0) is the bottom left corner of the probe</span>\n",
       "                            </div> </th> </tr> </thead>\n",
       "                <tbody> <tr> <td>CNT ASSY-37 P2</td>\n",
       "<td>1</td>\n",
       "<td>1</td>\n",
       "<td>1</td>\n",
       "<td>1</td>\n",
       "<td>0.0</td>\n",
       "<td>0.0</td>\n",
       "<td>0.0</td></tr><tr><td>CNT ASSY-37 P2</td>\n",
       "<td>2</td>\n",
       "<td>1</td>\n",
       "<td>2</td>\n",
       "<td>2</td>\n",
       "<td>22.5</td>\n",
       "<td>12.5</td>\n",
       "<td>0.0</td></tr><tr><td>CNT ASSY-37 P2</td>\n",
       "<td>3</td>\n",
       "<td>1</td>\n",
       "<td>1</td>\n",
       "<td>3</td>\n",
       "<td>0.0</td>\n",
       "<td>25.0</td>\n",
       "<td>0.0</td></tr><tr><td>CNT ASSY-37 P2</td>\n",
       "<td>4</td>\n",
       "<td>1</td>\n",
       "<td>2</td>\n",
       "<td>4</td>\n",
       "<td>22.5</td>\n",
       "<td>37.5</td>\n",
       "<td>0.0</td></tr><tr><td>CNT ASSY-37 P2</td>\n",
       "<td>5</td>\n",
       "<td>1</td>\n",
       "<td>1</td>\n",
       "<td>5</td>\n",
       "<td>0.0</td>\n",
       "<td>50.0</td>\n",
       "<td>0.0</td></tr><tr><td>CNT ASSY-37 P2</td>\n",
       "<td>6</td>\n",
       "<td>1</td>\n",
       "<td>2</td>\n",
       "<td>6</td>\n",
       "<td>22.5</td>\n",
       "<td>62.5</td>\n",
       "<td>0.0</td></tr><tr><td>CNT ASSY-37 P2</td>\n",
       "<td>7</td>\n",
       "<td>1</td>\n",
       "<td>1</td>\n",
       "<td>7</td>\n",
       "<td>0.0</td>\n",
       "<td>75.0</td>\n",
       "<td>0.0</td> </tr> </tbody>\n",
       "            </table>\n",
       "            <p>...</p>\n",
       "            <p>Total: 32</p></div>\n",
       "            "
      ],
      "text/plain": [
       "*probe_type    *electrode    shank     shank_col     shank_row     x_coord     y_coord     z_coord    \n",
       "+------------+ +-----------+ +-------+ +-----------+ +-----------+ +---------+ +---------+ +---------+\n",
       "CNT ASSY-37 P2 1             1         1             1             0.0         0.0         0.0        \n",
       "CNT ASSY-37 P2 2             1         2             2             22.5        12.5        0.0        \n",
       "CNT ASSY-37 P2 3             1         1             3             0.0         25.0        0.0        \n",
       "CNT ASSY-37 P2 4             1         2             4             22.5        37.5        0.0        \n",
       "CNT ASSY-37 P2 5             1         1             5             0.0         50.0        0.0        \n",
       "CNT ASSY-37 P2 6             1         2             6             22.5        62.5        0.0        \n",
       "CNT ASSY-37 P2 7             1         1             7             0.0         75.0        0.0        \n",
       "   ...\n",
       " (Total: 32)"
      ]
     },
     "execution_count": 41,
     "metadata": {},
     "output_type": "execute_result"
    }
   ],
   "source": [
    "probe_key = {'probe': '6669'}\n",
    "lab.ProbeType.Electrode & (lab.Probe & probe_key)"
   ]
  },
  {
   "cell_type": "markdown",
   "metadata": {},
   "source": [
    "#### Adapters"
   ]
  },
  {
   "cell_type": "code",
   "execution_count": 23,
   "metadata": {},
   "outputs": [
    {
     "data": {
      "text/html": [
       "\n",
       "        \n",
       "        <style type=\"text/css\">\n",
       "            .Relation{\n",
       "                border-collapse:collapse;\n",
       "            }\n",
       "            .Relation th{\n",
       "                background: #A0A0A0; color: #ffffff; padding:4px; border:#f0e0e0 1px solid;\n",
       "                font-weight: normal; font-family: monospace; font-size: 100%;\n",
       "            }\n",
       "            .Relation td{\n",
       "                padding:4px; border:#f0e0e0 1px solid; font-size:100%;\n",
       "            }\n",
       "            .Relation tr:nth-child(odd){\n",
       "                background: #ffffff;\n",
       "            }\n",
       "            .Relation tr:nth-child(even){\n",
       "                background: #f3f1ff;\n",
       "            }\n",
       "            /* Tooltip container */\n",
       "            .djtooltip {\n",
       "            }\n",
       "            /* Tooltip text */\n",
       "            .djtooltip .djtooltiptext {\n",
       "                visibility: hidden;\n",
       "                width: 120px;\n",
       "                background-color: black;\n",
       "                color: #fff;\n",
       "                text-align: center;\n",
       "                padding: 5px 0;\n",
       "                border-radius: 6px;\n",
       "                /* Position the tooltip text - see examples below! */\n",
       "                position: absolute;\n",
       "                z-index: 1;\n",
       "            }\n",
       "            #primary {\n",
       "                font-weight: bold;\n",
       "                color: black;\n",
       "            }\n",
       "\n",
       "            #nonprimary {\n",
       "                font-weight: normal;\n",
       "                color: white;\n",
       "            }\n",
       "\n",
       "            /* Show the tooltip text when you mouse over the tooltip container */\n",
       "            .djtooltip:hover .djtooltiptext {\n",
       "                visibility: visible;\n",
       "            }\n",
       "        </style>\n",
       "        \n",
       "        <b></b>\n",
       "            <div style=\"max-height:1000px;max-width:1500px;overflow:auto;\">\n",
       "            <table border=\"1\" class=\"Relation\">\n",
       "                <thead> <tr style=\"text-align: right;\"> <th> <div class=\"djtooltip\">\n",
       "                                <p id=\"primary\">adapter</p>\n",
       "                                <span class=\"djtooltiptext\">unique identifier for this model of probe adapter (e.g. part number)</span>\n",
       "                            </div></th><th><div class=\"djtooltip\">\n",
       "                                <p id=\"nonprimary\">desc</p>\n",
       "                                <span class=\"djtooltiptext\"></span>\n",
       "                            </div></th><th><div class=\"djtooltip\">\n",
       "                                <p id=\"nonprimary\">desc_image</p>\n",
       "                                <span class=\"djtooltiptext\">Adapter specs, including connector mapping</span>\n",
       "                            </div> </th> </tr> </thead>\n",
       "                <tbody> <tr> <td>CNT_A16OM16</td>\n",
       "<td>Cambridge NeuroTech A16-OM16</td>\n",
       "<td>=BLOB=</td></tr><tr><td>CNT_A32OM32</td>\n",
       "<td>Cambridge NeuroTech A32-OM32</td>\n",
       "<td>=BLOB=</td></tr><tr><td>NN_A32OM16x2</td>\n",
       "<td>Neuronexus A32-OM16x2</td>\n",
       "<td>=BLOB=</td></tr><tr><td>NN_A32OM32</td>\n",
       "<td>Neuronexus A32-OM32</td>\n",
       "<td>=BLOB=</td> </tr> </tbody>\n",
       "            </table>\n",
       "            \n",
       "            <p>Total: 4</p></div>\n",
       "            "
      ],
      "text/plain": [
       "*adapter       desc           desc_image\n",
       "+------------+ +------------+ +--------+\n",
       "CNT_A16OM16    Cambridge Neur =BLOB=    \n",
       "CNT_A32OM32    Cambridge Neur =BLOB=    \n",
       "NN_A32OM16x2   Neuronexus A32 =BLOB=    \n",
       "NN_A32OM32     Neuronexus A32 =BLOB=    \n",
       " (Total: 4)"
      ]
     },
     "execution_count": 23,
     "metadata": {},
     "output_type": "execute_result"
    }
   ],
   "source": [
    "lab.Adapter()"
   ]
  },
  {
   "cell_type": "code",
   "execution_count": 22,
   "metadata": {},
   "outputs": [],
   "source": [
    "#(lab.Adapter & {'adapter': 'NN32'}).delete()\n",
    "#CNT_A16OM16 \tCambridge NeuroTech A16-OM16 \n",
    "#CNT_A32OM32 \tCambridge NeuroTech A32-OM32 \n",
    "#NN_A32OM16x2 \tNeuronexus A32-OM16x2 \n",
    "#NN_A32OM32 \tNeuronexus A32-OM32 \n",
    "lab.Adapter.insert1(('CNT_A32OM32','Cambridge NeuroTech A32-OM32',''))"
   ]
  },
  {
   "cell_type": "markdown",
   "metadata": {},
   "source": [
    "#### Headstages"
   ]
  },
  {
   "cell_type": "code",
   "execution_count": 24,
   "metadata": {},
   "outputs": [
    {
     "data": {
      "text/html": [
       "\n",
       "        \n",
       "        <style type=\"text/css\">\n",
       "            .Relation{\n",
       "                border-collapse:collapse;\n",
       "            }\n",
       "            .Relation th{\n",
       "                background: #A0A0A0; color: #ffffff; padding:4px; border:#f0e0e0 1px solid;\n",
       "                font-weight: normal; font-family: monospace; font-size: 100%;\n",
       "            }\n",
       "            .Relation td{\n",
       "                padding:4px; border:#f0e0e0 1px solid; font-size:100%;\n",
       "            }\n",
       "            .Relation tr:nth-child(odd){\n",
       "                background: #ffffff;\n",
       "            }\n",
       "            .Relation tr:nth-child(even){\n",
       "                background: #f3f1ff;\n",
       "            }\n",
       "            /* Tooltip container */\n",
       "            .djtooltip {\n",
       "            }\n",
       "            /* Tooltip text */\n",
       "            .djtooltip .djtooltiptext {\n",
       "                visibility: hidden;\n",
       "                width: 120px;\n",
       "                background-color: black;\n",
       "                color: #fff;\n",
       "                text-align: center;\n",
       "                padding: 5px 0;\n",
       "                border-radius: 6px;\n",
       "                /* Position the tooltip text - see examples below! */\n",
       "                position: absolute;\n",
       "                z-index: 1;\n",
       "            }\n",
       "            #primary {\n",
       "                font-weight: bold;\n",
       "                color: black;\n",
       "            }\n",
       "\n",
       "            #nonprimary {\n",
       "                font-weight: normal;\n",
       "                color: white;\n",
       "            }\n",
       "\n",
       "            /* Show the tooltip text when you mouse over the tooltip container */\n",
       "            .djtooltip:hover .djtooltiptext {\n",
       "                visibility: visible;\n",
       "            }\n",
       "        </style>\n",
       "        \n",
       "        <b></b>\n",
       "            <div style=\"max-height:1000px;max-width:1500px;overflow:auto;\">\n",
       "            <table border=\"1\" class=\"Relation\">\n",
       "                <thead> <tr style=\"text-align: right;\"> <th> <div class=\"djtooltip\">\n",
       "                                <p id=\"primary\">headstage</p>\n",
       "                                <span class=\"djtooltiptext\">unique identifier for this model of headstage (e.g. part number)</span>\n",
       "                            </div></th><th><div class=\"djtooltip\">\n",
       "                                <p id=\"nonprimary\">desc</p>\n",
       "                                <span class=\"djtooltiptext\"></span>\n",
       "                            </div></th><th><div class=\"djtooltip\">\n",
       "                                <p id=\"nonprimary\">desc_image</p>\n",
       "                                <span class=\"djtooltiptext\">Headstage specs, including connector mapping</span>\n",
       "                            </div> </th> </tr> </thead>\n",
       "                <tbody> <tr> <td>Blackrock_16</td>\n",
       "<td>Blackrock 16 channels headstage</td>\n",
       "<td>=BLOB=</td></tr><tr><td>Blackrock_32</td>\n",
       "<td>Blackrock 32 channels headstage</td>\n",
       "<td>=BLOB=</td></tr><tr><td>Intan_16</td>\n",
       "<td>Intan 16 channels headstage</td>\n",
       "<td>=BLOB=</td></tr><tr><td>Intan_32</td>\n",
       "<td>Intan 32 channels headstage</td>\n",
       "<td>=BLOB=</td> </tr> </tbody>\n",
       "            </table>\n",
       "            \n",
       "            <p>Total: 4</p></div>\n",
       "            "
      ],
      "text/plain": [
       "*headstage     desc           desc_image\n",
       "+------------+ +------------+ +--------+\n",
       "Blackrock_16   Blackrock 16 c =BLOB=    \n",
       "Blackrock_32   Blackrock 32 c =BLOB=    \n",
       "Intan_16       Intan 16 chann =BLOB=    \n",
       "Intan_32       Intan 32 chann =BLOB=    \n",
       " (Total: 4)"
      ]
     },
     "execution_count": 24,
     "metadata": {},
     "output_type": "execute_result"
    }
   ],
   "source": [
    "lab.Headstage()"
   ]
  },
  {
   "cell_type": "code",
   "execution_count": 23,
   "metadata": {},
   "outputs": [],
   "source": [
    "#(lab.Headstage & {'headstage': 'Blackrock_32'}).delete()\n",
    "#lab.Headstage.insert1(('Blackrock_32','Blackrock 32 channels headstage',''))\n",
    "#lab.Headstage.insert1(('Blackrock_16','Blackrock 16 channels headstage',''))\n",
    "#lab.Headstage.insert1(('Intan_16','Intan 16 channels headstage',''))\n",
    "#lab.Headstage.insert1(('Intan_32','Intan 32 channels headstage',''))"
   ]
  },
  {
   "cell_type": "markdown",
   "metadata": {},
   "source": [
    "#### Electrode config (for debugging purpose only)"
   ]
  },
  {
   "cell_type": "code",
   "execution_count": 5,
   "metadata": {},
   "outputs": [
    {
     "data": {
      "text/html": [
       "\n",
       "        \n",
       "        <style type=\"text/css\">\n",
       "            .Relation{\n",
       "                border-collapse:collapse;\n",
       "            }\n",
       "            .Relation th{\n",
       "                background: #A0A0A0; color: #ffffff; padding:4px; border:#f0e0e0 1px solid;\n",
       "                font-weight: normal; font-family: monospace; font-size: 100%;\n",
       "            }\n",
       "            .Relation td{\n",
       "                padding:4px; border:#f0e0e0 1px solid; font-size:100%;\n",
       "            }\n",
       "            .Relation tr:nth-child(odd){\n",
       "                background: #ffffff;\n",
       "            }\n",
       "            .Relation tr:nth-child(even){\n",
       "                background: #f3f1ff;\n",
       "            }\n",
       "            /* Tooltip container */\n",
       "            .djtooltip {\n",
       "            }\n",
       "            /* Tooltip text */\n",
       "            .djtooltip .djtooltiptext {\n",
       "                visibility: hidden;\n",
       "                width: 120px;\n",
       "                background-color: black;\n",
       "                color: #fff;\n",
       "                text-align: center;\n",
       "                padding: 5px 0;\n",
       "                border-radius: 6px;\n",
       "                /* Position the tooltip text - see examples below! */\n",
       "                position: absolute;\n",
       "                z-index: 1;\n",
       "            }\n",
       "            #primary {\n",
       "                font-weight: bold;\n",
       "                color: black;\n",
       "            }\n",
       "\n",
       "            #nonprimary {\n",
       "                font-weight: normal;\n",
       "                color: white;\n",
       "            }\n",
       "\n",
       "            /* Show the tooltip text when you mouse over the tooltip container */\n",
       "            .djtooltip:hover .djtooltiptext {\n",
       "                visibility: visible;\n",
       "            }\n",
       "        </style>\n",
       "        \n",
       "        <b></b>\n",
       "            <div style=\"max-height:1000px;max-width:1500px;overflow:auto;\">\n",
       "            <table border=\"1\" class=\"Relation\">\n",
       "                <thead> <tr style=\"text-align: right;\"> <th> <div class=\"djtooltip\">\n",
       "                                <p id=\"primary\">probe_type</p>\n",
       "                                <span class=\"djtooltiptext\">e.g. neuropixels_1.0</span>\n",
       "                            </div></th><th><div class=\"djtooltip\">\n",
       "                                <p id=\"primary\">electrode_config_name</p>\n",
       "                                <span class=\"djtooltiptext\">user friendly name</span>\n",
       "                            </div></th><th><div class=\"djtooltip\">\n",
       "                                <p id=\"primary\">electrode_group</p>\n",
       "                                <span class=\"djtooltiptext\">electrode group</span>\n",
       "                            </div></th><th><div class=\"djtooltip\">\n",
       "                                <p id=\"primary\">electrode</p>\n",
       "                                <span class=\"djtooltiptext\">electrode index, starts at 1</span>\n",
       "                            </div></th><th><div class=\"djtooltip\">\n",
       "                                <p id=\"nonprimary\">is_used</p>\n",
       "                                <span class=\"djtooltiptext\">is this channel used for spatial average (ref channels are by default not used)</span>\n",
       "                            </div> </th> </tr> </thead>\n",
       "                <tbody> <tr>  </tr> </tbody>\n",
       "            </table>\n",
       "            \n",
       "            <p>Total: 0</p></div>\n",
       "            "
      ],
      "text/plain": [
       "*probe_type    *electrode_con *electrode_gro *electrode    is_used    \n",
       "+------------+ +------------+ +------------+ +-----------+ +---------+\n",
       "\n",
       " (Total: 0)"
      ]
     },
     "execution_count": 5,
     "metadata": {},
     "output_type": "execute_result"
    }
   ],
   "source": [
    "lab.ElectrodeConfig.Electrode()"
   ]
  },
  {
   "cell_type": "code",
   "execution_count": 7,
   "metadata": {},
   "outputs": [
    {
     "name": "stdout",
     "output_type": "stream",
     "text": [
      "About to delete:\n",
      "Nothing to delete\n",
      "About to delete:\n",
      "`cosmo_lab`.`#electrode_config__electrode_group`: 1 items\n",
      "`cosmo_lab`.`#electrode_config`: 1 items\n",
      "Proceed? [yes, No]: yes\n",
      "Committed.\n"
     ]
    }
   ],
   "source": [
    "from pipeline import ephys\n",
    "(ephys.ProbeInsertion & {'subject_id': 'vIRt49', 'session': '1'}).delete()\n",
    "lab.ElectrodeConfig.delete()"
   ]
  },
  {
   "cell_type": "code",
   "execution_count": 8,
   "metadata": {},
   "outputs": [
    {
     "data": {
      "text/html": [
       "\n",
       "        \n",
       "        <style type=\"text/css\">\n",
       "            .Relation{\n",
       "                border-collapse:collapse;\n",
       "            }\n",
       "            .Relation th{\n",
       "                background: #A0A0A0; color: #ffffff; padding:4px; border:#f0e0e0 1px solid;\n",
       "                font-weight: normal; font-family: monospace; font-size: 100%;\n",
       "            }\n",
       "            .Relation td{\n",
       "                padding:4px; border:#f0e0e0 1px solid; font-size:100%;\n",
       "            }\n",
       "            .Relation tr:nth-child(odd){\n",
       "                background: #ffffff;\n",
       "            }\n",
       "            .Relation tr:nth-child(even){\n",
       "                background: #f3f1ff;\n",
       "            }\n",
       "            /* Tooltip container */\n",
       "            .djtooltip {\n",
       "            }\n",
       "            /* Tooltip text */\n",
       "            .djtooltip .djtooltiptext {\n",
       "                visibility: hidden;\n",
       "                width: 120px;\n",
       "                background-color: black;\n",
       "                color: #fff;\n",
       "                text-align: center;\n",
       "                padding: 5px 0;\n",
       "                border-radius: 6px;\n",
       "                /* Position the tooltip text - see examples below! */\n",
       "                position: absolute;\n",
       "                z-index: 1;\n",
       "            }\n",
       "            #primary {\n",
       "                font-weight: bold;\n",
       "                color: black;\n",
       "            }\n",
       "\n",
       "            #nonprimary {\n",
       "                font-weight: normal;\n",
       "                color: white;\n",
       "            }\n",
       "\n",
       "            /* Show the tooltip text when you mouse over the tooltip container */\n",
       "            .djtooltip:hover .djtooltiptext {\n",
       "                visibility: visible;\n",
       "            }\n",
       "        </style>\n",
       "        \n",
       "        <b></b>\n",
       "            <div style=\"max-height:1000px;max-width:1500px;overflow:auto;\">\n",
       "            <table border=\"1\" class=\"Relation\">\n",
       "                <thead> <tr style=\"text-align: right;\"> <th> <div class=\"djtooltip\">\n",
       "                                <p id=\"primary\">probe_type</p>\n",
       "                                <span class=\"djtooltiptext\">e.g. neuropixels_1.0</span>\n",
       "                            </div></th><th><div class=\"djtooltip\">\n",
       "                                <p id=\"primary\">electrode_config_name</p>\n",
       "                                <span class=\"djtooltiptext\">user friendly name</span>\n",
       "                            </div></th><th><div class=\"djtooltip\">\n",
       "                                <p id=\"nonprimary\">electrode_config_hash</p>\n",
       "                                <span class=\"djtooltiptext\">hash of the group and group_member (ensure uniqueness)</span>\n",
       "                            </div> </th> </tr> </thead>\n",
       "                <tbody> <tr>  </tr> </tbody>\n",
       "            </table>\n",
       "            \n",
       "            <p>Total: 0</p></div>\n",
       "            "
      ],
      "text/plain": [
       "*probe_type    *electrode_con electrode_conf\n",
       "+------------+ +------------+ +------------+\n",
       "\n",
       " (Total: 0)"
      ]
     },
     "execution_count": 8,
     "metadata": {},
     "output_type": "execute_result"
    }
   ],
   "source": [
    "lab.ElectrodeConfig()"
   ]
  },
  {
   "cell_type": "code",
   "execution_count": 42,
   "metadata": {},
   "outputs": [
    {
     "name": "stdout",
     "output_type": "stream",
     "text": [
      "`cosmo_lab`.`#electrode_config__electrode` (0 tuples)\n",
      "`cosmo_ephys`.`_unit` (0 tuples)\n",
      "`cosmo_psth`.`__unit_psth` (0 tuples)\n",
      "`cosmo_ephys`.`photo_tagged_unit` (0 tuples)\n",
      "`cosmo_ephys`.`_waveform_metric` (0 tuples)\n",
      "`cosmo_ephys`.`_unit__waveform` (0 tuples)\n",
      "`cosmo_ephys`.`_unit__trial_spikes` (0 tuples)\n",
      "`cosmo_ephys`.`_cluster_metric` (0 tuples)\n",
      "`cosmo_ephys`.`__unit_stat` (0 tuples)\n",
      "`cosmo_ephys`.`__unit_cell_type` (0 tuples)\n",
      "`cosmo_ephys`.`_l_f_p__channel` (0 tuples)\n",
      "Proceed? [yes, No]: yes\n",
      "Tables dropped.  Restart kernel.\n"
     ]
    }
   ],
   "source": [
    "#lab.ElectrodeConfig.Electrode.drop(force=True)"
   ]
  },
  {
   "cell_type": "code",
   "execution_count": null,
   "metadata": {},
   "outputs": [],
   "source": []
  }
 ],
 "metadata": {
  "kernelspec": {
   "display_name": "Python 3",
   "language": "python",
   "name": "python3"
  },
  "language_info": {
   "codemirror_mode": {
    "name": "ipython",
    "version": 3
   },
   "file_extension": ".py",
   "mimetype": "text/x-python",
   "name": "python",
   "nbconvert_exporter": "python",
   "pygments_lexer": "ipython3",
   "version": "3.7.3"
  }
 },
 "nbformat": 4,
 "nbformat_minor": 2
}
