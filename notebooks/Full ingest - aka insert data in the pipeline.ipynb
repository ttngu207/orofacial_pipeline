{
 "cells": [
  {
   "cell_type": "markdown",
   "metadata": {},
   "source": [
    "#### Data ingestion notebook"
   ]
  },
  {
   "cell_type": "code",
   "execution_count": 1,
   "metadata": {},
   "outputs": [
    {
     "name": "stdout",
     "output_type": "stream",
     "text": [
      "V:\\Code\\DataJoint\\orofacial_pipeline\n"
     ]
    }
   ],
   "source": [
    "cd .."
   ]
  },
  {
   "cell_type": "code",
   "execution_count": 2,
   "metadata": {},
   "outputs": [],
   "source": [
    "#add subject if it doesn't exist already\n",
    "#from pipeline import lab\n",
    "# lab.Subject.insert1(('vIRt48', 'vincent', '1311202', '2019-12-01', 'F', 'Lab made'))\n",
    "\n",
    "#Same for the probe\n",
    "#lab.Probe.insert1(('6264','CNT ASSY-37 P2','Probe44'))"
   ]
  },
  {
   "cell_type": "code",
   "execution_count": 3,
   "metadata": {},
   "outputs": [
    {
     "name": "stdout",
     "output_type": "stream",
     "text": [
      "Connecting vincent@datajoint-db.orofacial-sensorimotor-circuits.org:3306\n",
      "About to delete:\n",
      "`cosmo_v0_ephys`.`_unit__waveform`: 1554 items\n",
      "`cosmo_v0_ephys`.`_unit`: 1554 items\n",
      "`cosmo_v0_ephys`.`_clustering`: 22 items\n",
      "`cosmo_v0_ephys`.`probe_insertion__recording_system_setup`: 22 items\n",
      "`cosmo_v0_ephys`.`probe_insertion`: 22 items\n",
      "`cosmo_v0_experiment`.`_behavior_trial`: 66 items\n",
      "`cosmo_v0_experiment`.`_photostim_event`: 8800 items\n",
      "`cosmo_v0_experiment`.`_photostim_trial`: 22 items\n",
      "`cosmo_v0_experiment`.`_session_trial`: 66 items\n",
      "`cosmo_v0_experiment`.`photostim`: 22 items\n",
      "`cosmo_v0_ingestion`.`_behavior_ingestion`: 22 items\n",
      "`cosmo_v0_ingestion`.`_ephys_ingestion__ephys_file`: 66 items\n",
      "`cosmo_v0_ingestion`.`_ephys_ingestion`: 22 items\n",
      "`cosmo_v0_ingestion`.`_inserted_session__session_file`: 254 items\n",
      "`cosmo_v0_ingestion`.`_inserted_session`: 23 items\n",
      "`cosmo_v0_tracking`.`_tracking__whisker_tracking`: 11 items\n",
      "`cosmo_v0_tracking`.`_tracking`: 1 items\n",
      "`cosmo_v0_experiment`.`session`: 23 items\n",
      "Proceed? [yes, No]: yes\n",
      "Committed.\n"
     ]
    }
   ],
   "source": [
    "## to delete previously imported sessions:\n",
    "from pipeline import experiment\n",
    "from pipeline.ingest import session_ingest, tracking_ingest, ephys_ingest, behavior_ingest\n",
    "experiment.Session.delete()"
   ]
  },
  {
   "cell_type": "markdown",
   "metadata": {},
   "source": [
    "#### Import all data for a subject"
   ]
  },
  {
   "cell_type": "code",
   "execution_count": 2,
   "metadata": {},
   "outputs": [
    {
     "name": "stdout",
     "output_type": "stream",
     "text": [
      "Connecting vincent@datajoint-db.orofacial-sensorimotor-circuits.org:3306\n",
      "=========== SESSION INGESTION ===========\n",
      "=========== BEHAVIOR INGESTION ===========\n"
     ]
    },
    {
     "name": "stderr",
     "output_type": "stream",
     "text": [
      "  0%|                                                                                            | 0/1 [00:00<?, ?it/s]Duplicate entry 'vIRt49-4-0' for key 'PRIMARY' : To ignore duplicate entries, set skip_duplicates=True in insert.\n",
      "100%|████████████████████████████████████████████████████████████████████████████████████| 1/1 [00:00<00:00,  1.51it/s]\n"
     ]
    },
    {
     "name": "stdout",
     "output_type": "stream",
     "text": [
      "=========== TRACKING INGESTION ===========\n"
     ]
    },
    {
     "name": "stderr",
     "output_type": "stream",
     "text": [
      "0it [00:00, ?it/s]\n"
     ]
    },
    {
     "name": "stdout",
     "output_type": "stream",
     "text": [
      "=========== EPHYS INGESTION ===========\n"
     ]
    },
    {
     "name": "stderr",
     "output_type": "stream",
     "text": [
      "  0%|                                                                                            | 0/1 [00:00<?, ?it/s]Unable to find one JRCLUST file - Found: []\n",
      "100%|████████████████████████████████████████████████████████████████████████████████████| 1/1 [00:00<00:00,  2.52it/s]\n"
     ]
    }
   ],
   "source": [
    "from pipeline import shell\n",
    "shell.ingest_all('vIRt49')\n",
    "# from terminal: python scripts/cosmoshell.py ingest-all vIRt49"
   ]
  },
  {
   "cell_type": "code",
   "execution_count": 3,
   "metadata": {},
   "outputs": [
    {
     "name": "stdout",
     "output_type": "stream",
     "text": [
      "Connecting vincent@datajoint-db.orofacial-sensorimotor-circuits.org:3306\n"
     ]
    }
   ],
   "source": [
    "from pipeline import experiment, tracking"
   ]
  },
  {
   "cell_type": "code",
   "execution_count": 4,
   "metadata": {},
   "outputs": [
    {
     "data": {
      "text/html": [
       "\n",
       "        \n",
       "        <style type=\"text/css\">\n",
       "            .Relation{\n",
       "                border-collapse:collapse;\n",
       "            }\n",
       "            .Relation th{\n",
       "                background: #A0A0A0; color: #ffffff; padding:4px; border:#f0e0e0 1px solid;\n",
       "                font-weight: normal; font-family: monospace; font-size: 100%;\n",
       "            }\n",
       "            .Relation td{\n",
       "                padding:4px; border:#f0e0e0 1px solid; font-size:100%;\n",
       "            }\n",
       "            .Relation tr:nth-child(odd){\n",
       "                background: #ffffff;\n",
       "            }\n",
       "            .Relation tr:nth-child(even){\n",
       "                background: #f3f1ff;\n",
       "            }\n",
       "            /* Tooltip container */\n",
       "            .djtooltip {\n",
       "            }\n",
       "            /* Tooltip text */\n",
       "            .djtooltip .djtooltiptext {\n",
       "                visibility: hidden;\n",
       "                width: 120px;\n",
       "                background-color: black;\n",
       "                color: #fff;\n",
       "                text-align: center;\n",
       "                padding: 5px 0;\n",
       "                border-radius: 6px;\n",
       "                /* Position the tooltip text - see examples below! */\n",
       "                position: absolute;\n",
       "                z-index: 1;\n",
       "            }\n",
       "            #primary {\n",
       "                font-weight: bold;\n",
       "                color: black;\n",
       "            }\n",
       "\n",
       "            #nonprimary {\n",
       "                font-weight: normal;\n",
       "                color: white;\n",
       "            }\n",
       "\n",
       "            /* Show the tooltip text when you mouse over the tooltip container */\n",
       "            .djtooltip:hover .djtooltiptext {\n",
       "                visibility: visible;\n",
       "            }\n",
       "        </style>\n",
       "        \n",
       "        <b></b>\n",
       "            <div style=\"max-height:1000px;max-width:1500px;overflow:auto;\">\n",
       "            <table border=\"1\" class=\"Relation\">\n",
       "                <thead> <tr style=\"text-align: right;\"> <th> <div class=\"djtooltip\">\n",
       "                                <p id=\"primary\">subject_id</p>\n",
       "                                <span class=\"djtooltiptext\"></span>\n",
       "                            </div></th><th><div class=\"djtooltip\">\n",
       "                                <p id=\"primary\">session</p>\n",
       "                                <span class=\"djtooltiptext\">session number</span>\n",
       "                            </div></th><th><div class=\"djtooltip\">\n",
       "                                <p id=\"nonprimary\">session_date</p>\n",
       "                                <span class=\"djtooltiptext\"></span>\n",
       "                            </div></th><th><div class=\"djtooltip\">\n",
       "                                <p id=\"nonprimary\">session_time</p>\n",
       "                                <span class=\"djtooltiptext\">computer time for t=0. This is the start of the data acquisition from the master device (typically with the highest sampling rate, e.g., ephys acquisition device)</span>\n",
       "                            </div></th><th><div class=\"djtooltip\">\n",
       "                                <p id=\"nonprimary\">session_basename</p>\n",
       "                                <span class=\"djtooltiptext\">unique id used for referencing session files. All files associated to that session should contain that base name (or be within a folder that does)</span>\n",
       "                            </div></th><th><div class=\"djtooltip\">\n",
       "                                <p id=\"nonprimary\">username</p>\n",
       "                                <span class=\"djtooltiptext\"></span>\n",
       "                            </div></th><th><div class=\"djtooltip\">\n",
       "                                <p id=\"nonprimary\">rig</p>\n",
       "                                <span class=\"djtooltiptext\"></span>\n",
       "                            </div> </th> </tr> </thead>\n",
       "                <tbody> <tr> <td>vIRt49</td>\n",
       "<td>1</td>\n",
       "<td>2020-09-14</td>\n",
       "<td>17:11:02</td>\n",
       "<td>vIRt49_0914_5400</td>\n",
       "<td>vincent</td>\n",
       "<td>vincent_ephys_335</td></tr><tr><td>vIRt49</td>\n",
       "<td>2</td>\n",
       "<td>2020-09-14</td>\n",
       "<td>17:23:29</td>\n",
       "<td>vIRt49_0914_5550</td>\n",
       "<td>vincent</td>\n",
       "<td>vincent_ephys_335</td></tr><tr><td>vIRt49</td>\n",
       "<td>3</td>\n",
       "<td>2020-09-14</td>\n",
       "<td>17:29:50</td>\n",
       "<td>vIRt49_0914_5700</td>\n",
       "<td>vincent</td>\n",
       "<td>vincent_ephys_335</td></tr><tr><td>vIRt49</td>\n",
       "<td>4</td>\n",
       "<td>2020-09-14</td>\n",
       "<td>16:02:47</td>\n",
       "<td>vIRt49_0914_running</td>\n",
       "<td>vincent</td>\n",
       "<td>vincent_ephys_335</td></tr><tr><td>vIRt49</td>\n",
       "<td>5</td>\n",
       "<td>2020-09-15</td>\n",
       "<td>18:41:01</td>\n",
       "<td>vIRt49_0915_4308</td>\n",
       "<td>vincent</td>\n",
       "<td>vincent_ephys_335</td></tr><tr><td>vIRt49</td>\n",
       "<td>6</td>\n",
       "<td>2020-09-15</td>\n",
       "<td>19:01:56</td>\n",
       "<td>vIRt49_0915_4909</td>\n",
       "<td>vincent</td>\n",
       "<td>vincent_ephys_335</td></tr><tr><td>vIRt49</td>\n",
       "<td>7</td>\n",
       "<td>2020-09-15</td>\n",
       "<td>19:11:09</td>\n",
       "<td>vIRt49_0915_5048</td>\n",
       "<td>vincent</td>\n",
       "<td>vincent_ephys_335</td> </tr> </tbody>\n",
       "            </table>\n",
       "            <p>...</p>\n",
       "            <p>Total: 23</p></div>\n",
       "            "
      ],
      "text/plain": [
       "*subject_id    *session    session_date   session_time   session_basena username     rig           \n",
       "+------------+ +---------+ +------------+ +------------+ +------------+ +----------+ +------------+\n",
       "vIRt49         1           2020-09-14     17:11:02       vIRt49_0914_54 vincent      vincent_ephys_\n",
       "vIRt49         2           2020-09-14     17:23:29       vIRt49_0914_55 vincent      vincent_ephys_\n",
       "vIRt49         3           2020-09-14     17:29:50       vIRt49_0914_57 vincent      vincent_ephys_\n",
       "vIRt49         4           2020-09-14     16:02:47       vIRt49_0914_ru vincent      vincent_ephys_\n",
       "vIRt49         5           2020-09-15     18:41:01       vIRt49_0915_43 vincent      vincent_ephys_\n",
       "vIRt49         6           2020-09-15     19:01:56       vIRt49_0915_49 vincent      vincent_ephys_\n",
       "vIRt49         7           2020-09-15     19:11:09       vIRt49_0915_50 vincent      vincent_ephys_\n",
       "   ...\n",
       " (Total: 23)"
      ]
     },
     "execution_count": 4,
     "metadata": {},
     "output_type": "execute_result"
    }
   ],
   "source": [
    "experiment.Session()"
   ]
  },
  {
   "cell_type": "code",
   "execution_count": 5,
   "metadata": {},
   "outputs": [
    {
     "data": {
      "text/html": [
       "\n",
       "        \n",
       "        <style type=\"text/css\">\n",
       "            .Relation{\n",
       "                border-collapse:collapse;\n",
       "            }\n",
       "            .Relation th{\n",
       "                background: #A0A0A0; color: #ffffff; padding:4px; border:#f0e0e0 1px solid;\n",
       "                font-weight: normal; font-family: monospace; font-size: 100%;\n",
       "            }\n",
       "            .Relation td{\n",
       "                padding:4px; border:#f0e0e0 1px solid; font-size:100%;\n",
       "            }\n",
       "            .Relation tr:nth-child(odd){\n",
       "                background: #ffffff;\n",
       "            }\n",
       "            .Relation tr:nth-child(even){\n",
       "                background: #f3f1ff;\n",
       "            }\n",
       "            /* Tooltip container */\n",
       "            .djtooltip {\n",
       "            }\n",
       "            /* Tooltip text */\n",
       "            .djtooltip .djtooltiptext {\n",
       "                visibility: hidden;\n",
       "                width: 120px;\n",
       "                background-color: black;\n",
       "                color: #fff;\n",
       "                text-align: center;\n",
       "                padding: 5px 0;\n",
       "                border-radius: 6px;\n",
       "                /* Position the tooltip text - see examples below! */\n",
       "                position: absolute;\n",
       "                z-index: 1;\n",
       "            }\n",
       "            #primary {\n",
       "                font-weight: bold;\n",
       "                color: black;\n",
       "            }\n",
       "\n",
       "            #nonprimary {\n",
       "                font-weight: normal;\n",
       "                color: white;\n",
       "            }\n",
       "\n",
       "            /* Show the tooltip text when you mouse over the tooltip container */\n",
       "            .djtooltip:hover .djtooltiptext {\n",
       "                visibility: visible;\n",
       "            }\n",
       "        </style>\n",
       "        \n",
       "        <b></b>\n",
       "            <div style=\"max-height:1000px;max-width:1500px;overflow:auto;\">\n",
       "            <table border=\"1\" class=\"Relation\">\n",
       "                <thead> <tr style=\"text-align: right;\"> <th> <div class=\"djtooltip\">\n",
       "                                <p id=\"primary\">subject_id</p>\n",
       "                                <span class=\"djtooltiptext\"></span>\n",
       "                            </div></th><th><div class=\"djtooltip\">\n",
       "                                <p id=\"primary\">session</p>\n",
       "                                <span class=\"djtooltiptext\">session number</span>\n",
       "                            </div></th><th><div class=\"djtooltip\">\n",
       "                                <p id=\"primary\">trial</p>\n",
       "                                <span class=\"djtooltiptext\">trial number (1-based indexing)</span>\n",
       "                            </div></th><th><div class=\"djtooltip\">\n",
       "                                <p id=\"nonprimary\">start_time</p>\n",
       "                                <span class=\"djtooltiptext\">(s) relative to session beginning</span>\n",
       "                            </div></th><th><div class=\"djtooltip\">\n",
       "                                <p id=\"nonprimary\">stop_time</p>\n",
       "                                <span class=\"djtooltiptext\">(s) relative to session beginning</span>\n",
       "                            </div> </th> </tr> </thead>\n",
       "                <tbody> <tr> <td>vIRt49</td>\n",
       "<td>1</td>\n",
       "<td>0</td>\n",
       "<td>0.0000</td>\n",
       "<td>372.6174</td></tr><tr><td>vIRt49</td>\n",
       "<td>1</td>\n",
       "<td>1</td>\n",
       "<td>372.6174</td>\n",
       "<td>431.5374</td></tr><tr><td>vIRt49</td>\n",
       "<td>1</td>\n",
       "<td>2</td>\n",
       "<td>431.5374</td>\n",
       "<td>479.5032</td></tr><tr><td>vIRt49</td>\n",
       "<td>2</td>\n",
       "<td>0</td>\n",
       "<td>0.0000</td>\n",
       "<td>500.4295</td></tr><tr><td>vIRt49</td>\n",
       "<td>2</td>\n",
       "<td>1</td>\n",
       "<td>500.4295</td>\n",
       "<td>559.3494</td></tr><tr><td>vIRt49</td>\n",
       "<td>2</td>\n",
       "<td>2</td>\n",
       "<td>559.3494</td>\n",
       "<td>615.0220</td></tr><tr><td>vIRt49</td>\n",
       "<td>3</td>\n",
       "<td>0</td>\n",
       "<td>0.0000</td>\n",
       "<td>189.8119</td> </tr> </tbody>\n",
       "            </table>\n",
       "            <p>...</p>\n",
       "            <p>Total: 66</p></div>\n",
       "            "
      ],
      "text/plain": [
       "*subject_id    *session    *trial    start_time     stop_time    \n",
       "+------------+ +---------+ +-------+ +------------+ +-----------+\n",
       "vIRt49         1           0         0.0000         372.6174     \n",
       "vIRt49         1           1         372.6174       431.5374     \n",
       "vIRt49         1           2         431.5374       479.5032     \n",
       "vIRt49         2           0         0.0000         500.4295     \n",
       "vIRt49         2           1         500.4295       559.3494     \n",
       "vIRt49         2           2         559.3494       615.0220     \n",
       "vIRt49         3           0         0.0000         189.8119     \n",
       "   ...\n",
       " (Total: 66)"
      ]
     },
     "execution_count": 5,
     "metadata": {},
     "output_type": "execute_result"
    }
   ],
   "source": [
    "experiment.SessionTrial()"
   ]
  },
  {
   "cell_type": "code",
   "execution_count": 6,
   "metadata": {},
   "outputs": [
    {
     "data": {
      "text/html": [
       "\n",
       "        \n",
       "        <style type=\"text/css\">\n",
       "            .Relation{\n",
       "                border-collapse:collapse;\n",
       "            }\n",
       "            .Relation th{\n",
       "                background: #A0A0A0; color: #ffffff; padding:4px; border:#f0e0e0 1px solid;\n",
       "                font-weight: normal; font-family: monospace; font-size: 100%;\n",
       "            }\n",
       "            .Relation td{\n",
       "                padding:4px; border:#f0e0e0 1px solid; font-size:100%;\n",
       "            }\n",
       "            .Relation tr:nth-child(odd){\n",
       "                background: #ffffff;\n",
       "            }\n",
       "            .Relation tr:nth-child(even){\n",
       "                background: #f3f1ff;\n",
       "            }\n",
       "            /* Tooltip container */\n",
       "            .djtooltip {\n",
       "            }\n",
       "            /* Tooltip text */\n",
       "            .djtooltip .djtooltiptext {\n",
       "                visibility: hidden;\n",
       "                width: 120px;\n",
       "                background-color: black;\n",
       "                color: #fff;\n",
       "                text-align: center;\n",
       "                padding: 5px 0;\n",
       "                border-radius: 6px;\n",
       "                /* Position the tooltip text - see examples below! */\n",
       "                position: absolute;\n",
       "                z-index: 1;\n",
       "            }\n",
       "            #primary {\n",
       "                font-weight: bold;\n",
       "                color: black;\n",
       "            }\n",
       "\n",
       "            #nonprimary {\n",
       "                font-weight: normal;\n",
       "                color: white;\n",
       "            }\n",
       "\n",
       "            /* Show the tooltip text when you mouse over the tooltip container */\n",
       "            .djtooltip:hover .djtooltiptext {\n",
       "                visibility: visible;\n",
       "            }\n",
       "        </style>\n",
       "        \n",
       "        <b></b>\n",
       "            <div style=\"max-height:1000px;max-width:1500px;overflow:auto;\">\n",
       "            <table border=\"1\" class=\"Relation\">\n",
       "                <thead> <tr style=\"text-align: right;\"> <th> <div class=\"djtooltip\">\n",
       "                                <p id=\"primary\">subject_id</p>\n",
       "                                <span class=\"djtooltiptext\"></span>\n",
       "                            </div></th><th><div class=\"djtooltip\">\n",
       "                                <p id=\"primary\">session</p>\n",
       "                                <span class=\"djtooltiptext\">session number</span>\n",
       "                            </div></th><th><div class=\"djtooltip\">\n",
       "                                <p id=\"primary\">tracking_device</p>\n",
       "                                <span class=\"djtooltiptext\">device type/function</span>\n",
       "                            </div></th><th><div class=\"djtooltip\">\n",
       "                                <p id=\"primary\">whisker_idx</p>\n",
       "                                <span class=\"djtooltiptext\">0, 1, 2</span>\n",
       "                            </div></th><th><div class=\"djtooltip\">\n",
       "                                <p id=\"nonprimary\">angle</p>\n",
       "                                <span class=\"djtooltiptext\">mean angle at follicle</span>\n",
       "                            </div></th><th><div class=\"djtooltip\">\n",
       "                                <p id=\"nonprimary\">curvature</p>\n",
       "                                <span class=\"djtooltiptext\">mean curvature (1/mm)</span>\n",
       "                            </div></th><th><div class=\"djtooltip\">\n",
       "                                <p id=\"nonprimary\">face_x</p>\n",
       "                                <span class=\"djtooltiptext\">approximate center of whisker pad, x (px)</span>\n",
       "                            </div></th><th><div class=\"djtooltip\">\n",
       "                                <p id=\"nonprimary\">face_y</p>\n",
       "                                <span class=\"djtooltiptext\">approximate center of whisker pad, y (px)</span>\n",
       "                            </div></th><th><div class=\"djtooltip\">\n",
       "                                <p id=\"nonprimary\">follicle_x</p>\n",
       "                                <span class=\"djtooltiptext\">follicle position: x (px)</span>\n",
       "                            </div></th><th><div class=\"djtooltip\">\n",
       "                                <p id=\"nonprimary\">follicle_y</p>\n",
       "                                <span class=\"djtooltiptext\">follicle position: y (px)</span>\n",
       "                            </div></th><th><div class=\"djtooltip\">\n",
       "                                <p id=\"nonprimary\">tip_x</p>\n",
       "                                <span class=\"djtooltiptext\">tip position: x (px)</span>\n",
       "                            </div></th><th><div class=\"djtooltip\">\n",
       "                                <p id=\"nonprimary\">tip_y</p>\n",
       "                                <span class=\"djtooltiptext\">tip position: y (px)</span>\n",
       "                            </div> </th> </tr> </thead>\n",
       "                <tbody> <tr> <td>vIRt49</td>\n",
       "<td>1</td>\n",
       "<td>WT_Camera_Vincent 0</td>\n",
       "<td>0</td>\n",
       "<td>=BLOB=</td>\n",
       "<td>=BLOB=</td>\n",
       "<td>=BLOB=</td>\n",
       "<td>=BLOB=</td>\n",
       "<td>=BLOB=</td>\n",
       "<td>=BLOB=</td>\n",
       "<td>=BLOB=</td>\n",
       "<td>=BLOB=</td></tr><tr><td>vIRt49</td>\n",
       "<td>1</td>\n",
       "<td>WT_Camera_Vincent 0</td>\n",
       "<td>1</td>\n",
       "<td>=BLOB=</td>\n",
       "<td>=BLOB=</td>\n",
       "<td>=BLOB=</td>\n",
       "<td>=BLOB=</td>\n",
       "<td>=BLOB=</td>\n",
       "<td>=BLOB=</td>\n",
       "<td>=BLOB=</td>\n",
       "<td>=BLOB=</td></tr><tr><td>vIRt49</td>\n",
       "<td>1</td>\n",
       "<td>WT_Camera_Vincent 0</td>\n",
       "<td>2</td>\n",
       "<td>=BLOB=</td>\n",
       "<td>=BLOB=</td>\n",
       "<td>=BLOB=</td>\n",
       "<td>=BLOB=</td>\n",
       "<td>=BLOB=</td>\n",
       "<td>=BLOB=</td>\n",
       "<td>=BLOB=</td>\n",
       "<td>=BLOB=</td></tr><tr><td>vIRt49</td>\n",
       "<td>1</td>\n",
       "<td>WT_Camera_Vincent 0</td>\n",
       "<td>3</td>\n",
       "<td>=BLOB=</td>\n",
       "<td>=BLOB=</td>\n",
       "<td>=BLOB=</td>\n",
       "<td>=BLOB=</td>\n",
       "<td>=BLOB=</td>\n",
       "<td>=BLOB=</td>\n",
       "<td>=BLOB=</td>\n",
       "<td>=BLOB=</td></tr><tr><td>vIRt49</td>\n",
       "<td>1</td>\n",
       "<td>WT_Camera_Vincent 0</td>\n",
       "<td>4</td>\n",
       "<td>=BLOB=</td>\n",
       "<td>=BLOB=</td>\n",
       "<td>=BLOB=</td>\n",
       "<td>=BLOB=</td>\n",
       "<td>=BLOB=</td>\n",
       "<td>=BLOB=</td>\n",
       "<td>=BLOB=</td>\n",
       "<td>=BLOB=</td></tr><tr><td>vIRt49</td>\n",
       "<td>1</td>\n",
       "<td>WT_Camera_Vincent 0</td>\n",
       "<td>5</td>\n",
       "<td>=BLOB=</td>\n",
       "<td>=BLOB=</td>\n",
       "<td>=BLOB=</td>\n",
       "<td>=BLOB=</td>\n",
       "<td>=BLOB=</td>\n",
       "<td>=BLOB=</td>\n",
       "<td>=BLOB=</td>\n",
       "<td>=BLOB=</td></tr><tr><td>vIRt49</td>\n",
       "<td>1</td>\n",
       "<td>WT_Camera_Vincent 0</td>\n",
       "<td>6</td>\n",
       "<td>=BLOB=</td>\n",
       "<td>=BLOB=</td>\n",
       "<td>=BLOB=</td>\n",
       "<td>=BLOB=</td>\n",
       "<td>=BLOB=</td>\n",
       "<td>=BLOB=</td>\n",
       "<td>=BLOB=</td>\n",
       "<td>=BLOB=</td> </tr> </tbody>\n",
       "            </table>\n",
       "            <p>...</p>\n",
       "            <p>Total: 204</p></div>\n",
       "            "
      ],
      "text/plain": [
       "*subject_id    *session    *tracking_devi *whisker_idx   angle      curvature  face_x     face_y     follicle_x follicle_y tip_x      tip_y     \n",
       "+------------+ +---------+ +------------+ +------------+ +--------+ +--------+ +--------+ +--------+ +--------+ +--------+ +--------+ +--------+\n",
       "vIRt49         1           WT_Camera_Vinc 0              =BLOB=     =BLOB=     =BLOB=     =BLOB=     =BLOB=     =BLOB=     =BLOB=     =BLOB=    \n",
       "vIRt49         1           WT_Camera_Vinc 1              =BLOB=     =BLOB=     =BLOB=     =BLOB=     =BLOB=     =BLOB=     =BLOB=     =BLOB=    \n",
       "vIRt49         1           WT_Camera_Vinc 2              =BLOB=     =BLOB=     =BLOB=     =BLOB=     =BLOB=     =BLOB=     =BLOB=     =BLOB=    \n",
       "vIRt49         1           WT_Camera_Vinc 3              =BLOB=     =BLOB=     =BLOB=     =BLOB=     =BLOB=     =BLOB=     =BLOB=     =BLOB=    \n",
       "vIRt49         1           WT_Camera_Vinc 4              =BLOB=     =BLOB=     =BLOB=     =BLOB=     =BLOB=     =BLOB=     =BLOB=     =BLOB=    \n",
       "vIRt49         1           WT_Camera_Vinc 5              =BLOB=     =BLOB=     =BLOB=     =BLOB=     =BLOB=     =BLOB=     =BLOB=     =BLOB=    \n",
       "vIRt49         1           WT_Camera_Vinc 6              =BLOB=     =BLOB=     =BLOB=     =BLOB=     =BLOB=     =BLOB=     =BLOB=     =BLOB=    \n",
       "   ...\n",
       " (Total: 204)"
      ]
     },
     "execution_count": 6,
     "metadata": {},
     "output_type": "execute_result"
    }
   ],
   "source": [
    "tracking.Tracking.WhiskerTracking()"
   ]
  },
  {
   "cell_type": "code",
   "execution_count": 2,
   "metadata": {
    "scrolled": true
   },
   "outputs": [
    {
     "name": "stdout",
     "output_type": "stream",
     "text": [
      "V:\\Code\\DataJoint\\orofacial_pipeline\n"
     ]
    }
   ],
   "source": [
    "cd .."
   ]
  },
  {
   "cell_type": "code",
   "execution_count": 3,
   "metadata": {},
   "outputs": [
    {
     "name": "stdout",
     "output_type": "stream",
     "text": [
      "Connecting vincent@datajoint-db.orofacial-sensorimotor-circuits.org:3306\n"
     ]
    }
   ],
   "source": [
    "from pipeline.ingest import behavior_ingest, tracking_ingest"
   ]
  },
  {
   "cell_type": "code",
   "execution_count": 4,
   "metadata": {},
   "outputs": [
    {
     "data": {
      "text/html": [
       "\n",
       "        \n",
       "        <style type=\"text/css\">\n",
       "            .Relation{\n",
       "                border-collapse:collapse;\n",
       "            }\n",
       "            .Relation th{\n",
       "                background: #A0A0A0; color: #ffffff; padding:4px; border:#f0e0e0 1px solid;\n",
       "                font-weight: normal; font-family: monospace; font-size: 100%;\n",
       "            }\n",
       "            .Relation td{\n",
       "                padding:4px; border:#f0e0e0 1px solid; font-size:100%;\n",
       "            }\n",
       "            .Relation tr:nth-child(odd){\n",
       "                background: #ffffff;\n",
       "            }\n",
       "            .Relation tr:nth-child(even){\n",
       "                background: #f3f1ff;\n",
       "            }\n",
       "            /* Tooltip container */\n",
       "            .djtooltip {\n",
       "            }\n",
       "            /* Tooltip text */\n",
       "            .djtooltip .djtooltiptext {\n",
       "                visibility: hidden;\n",
       "                width: 120px;\n",
       "                background-color: black;\n",
       "                color: #fff;\n",
       "                text-align: center;\n",
       "                padding: 5px 0;\n",
       "                border-radius: 6px;\n",
       "                /* Position the tooltip text - see examples below! */\n",
       "                position: absolute;\n",
       "                z-index: 1;\n",
       "            }\n",
       "            #primary {\n",
       "                font-weight: bold;\n",
       "                color: black;\n",
       "            }\n",
       "\n",
       "            #nonprimary {\n",
       "                font-weight: normal;\n",
       "                color: white;\n",
       "            }\n",
       "\n",
       "            /* Show the tooltip text when you mouse over the tooltip container */\n",
       "            .djtooltip:hover .djtooltiptext {\n",
       "                visibility: visible;\n",
       "            }\n",
       "        </style>\n",
       "        \n",
       "        <b>job reservation table for `cosmo_v0_ingestion`</b>\n",
       "            <div style=\"max-height:1000px;max-width:1500px;overflow:auto;\">\n",
       "            <table border=\"1\" class=\"Relation\">\n",
       "                <thead> <tr style=\"text-align: right;\"> <th> <div class=\"djtooltip\">\n",
       "                                <p id=\"primary\">table_name</p>\n",
       "                                <span class=\"djtooltiptext\">className of the table</span>\n",
       "                            </div></th><th><div class=\"djtooltip\">\n",
       "                                <p id=\"primary\">key_hash</p>\n",
       "                                <span class=\"djtooltiptext\">key hash</span>\n",
       "                            </div></th><th><div class=\"djtooltip\">\n",
       "                                <p id=\"nonprimary\">status</p>\n",
       "                                <span class=\"djtooltiptext\">if tuple is missing, the job is available</span>\n",
       "                            </div></th><th><div class=\"djtooltip\">\n",
       "                                <p id=\"nonprimary\">key</p>\n",
       "                                <span class=\"djtooltiptext\">structure containing the key</span>\n",
       "                            </div></th><th><div class=\"djtooltip\">\n",
       "                                <p id=\"nonprimary\">error_message</p>\n",
       "                                <span class=\"djtooltiptext\">error message returned if failed</span>\n",
       "                            </div></th><th><div class=\"djtooltip\">\n",
       "                                <p id=\"nonprimary\">error_stack</p>\n",
       "                                <span class=\"djtooltiptext\">error stack if failed</span>\n",
       "                            </div></th><th><div class=\"djtooltip\">\n",
       "                                <p id=\"nonprimary\">user</p>\n",
       "                                <span class=\"djtooltiptext\">database user</span>\n",
       "                            </div></th><th><div class=\"djtooltip\">\n",
       "                                <p id=\"nonprimary\">host</p>\n",
       "                                <span class=\"djtooltiptext\">system hostname</span>\n",
       "                            </div></th><th><div class=\"djtooltip\">\n",
       "                                <p id=\"nonprimary\">pid</p>\n",
       "                                <span class=\"djtooltiptext\">system process id</span>\n",
       "                            </div></th><th><div class=\"djtooltip\">\n",
       "                                <p id=\"nonprimary\">connection_id</p>\n",
       "                                <span class=\"djtooltiptext\">connection_id()</span>\n",
       "                            </div></th><th><div class=\"djtooltip\">\n",
       "                                <p id=\"nonprimary\">timestamp</p>\n",
       "                                <span class=\"djtooltiptext\">automatic timestamp</span>\n",
       "                            </div> </th> </tr> </thead>\n",
       "                <tbody> <tr> <td>_behavior_ingestion</td>\n",
       "<td>9e4ae13e86ff5f8393dd1efb5b031b95</td>\n",
       "<td>error</td>\n",
       "<td>=BLOB=</td>\n",
       "<td>DuplicateError: Duplicate entry 'vIRt49-4-0' for key 'PRIMARY' : To ignore duplicate entries, set skip_duplicates=True in insert.</td>\n",
       "<td>=BLOB=</td>\n",
       "<td>vincent@152.16.191.74</td>\n",
       "<td>neuro-wang-15</td>\n",
       "<td>22820</td>\n",
       "<td>29400</td>\n",
       "<td>2020-10-05 15:41:21</td></tr><tr><td>_ephys_ingestion</td>\n",
       "<td>9e4ae13e86ff5f8393dd1efb5b031b95</td>\n",
       "<td>error</td>\n",
       "<td>=BLOB=</td>\n",
       "<td>FileNotFoundError: Unable to find one JRCLUST file - Found: []</td>\n",
       "<td>=BLOB=</td>\n",
       "<td>vincent@152.16.191.74</td>\n",
       "<td>neuro-wang-15</td>\n",
       "<td>22820</td>\n",
       "<td>29400</td>\n",
       "<td>2020-10-05 15:41:22</td> </tr> </tbody>\n",
       "            </table>\n",
       "            \n",
       "            <p>Total: 2</p></div>\n",
       "            "
      ],
      "text/plain": [
       "*table_name    *key_hash      status     key        error_message  error_stac user           host           pid       connection_id  timestamp     \n",
       "+------------+ +------------+ +--------+ +--------+ +------------+ +--------+ +------------+ +------------+ +-------+ +------------+ +------------+\n",
       "_behavior_inge 9e4ae13e86ff5f error      =BLOB=     DuplicateError =BLOB=     vincent@152.16 neuro-wang-15  22820     29400          2020-10-05 15:\n",
       "_ephys_ingesti 9e4ae13e86ff5f error      =BLOB=     FileNotFoundEr =BLOB=     vincent@152.16 neuro-wang-15  22820     29400          2020-10-05 15:\n",
       " (Total: 2)"
      ]
     },
     "execution_count": 4,
     "metadata": {},
     "output_type": "execute_result"
    }
   ],
   "source": [
    "behavior_ingest.schema.jobs"
   ]
  },
  {
   "cell_type": "code",
   "execution_count": 5,
   "metadata": {},
   "outputs": [
    {
     "data": {
      "text/plain": [
       "array([array(['Traceback (most recent call last):\\n  File \"V:\\\\ProgramData\\\\Anaconda3\\\\lib\\\\site-packages\\\\datajoint\\\\autopopulate.py\", line 154, in populate\\n    make(dict(key))\\n  File \"V:\\\\Code\\\\DataJoint\\\\orofacial_pipeline\\\\pipeline\\\\ingest\\\\behavior_ingest.py\", line 76, in make\\n    allow_direct_insert=True, ignore_extra_fields=True)\\n  File \"V:\\\\ProgramData\\\\Anaconda3\\\\lib\\\\site-packages\\\\datajoint\\\\table.py\", line 309, in insert\\n    ) from None\\ndatajoint.errors.DuplicateError: Duplicate entry \\'vIRt49-4-0\\' for key \\'PRIMARY\\' : To ignore duplicate entries, set skip_duplicates=True in insert.\\n'],\n",
       "      dtype='<U566'),\n",
       "       array(['Traceback (most recent call last):\\n  File \"V:\\\\ProgramData\\\\Anaconda3\\\\lib\\\\site-packages\\\\datajoint\\\\autopopulate.py\", line 154, in populate\\n    make(dict(key))\\n  File \"V:\\\\Code\\\\DataJoint\\\\orofacial_pipeline\\\\pipeline\\\\ingest\\\\ephys_ingest.py\", line 62, in make\\n    all_ephys_data = loader.load_ephys(session_dir, key[\\'subject_id\\'], session_basename)\\n  File \"V:\\\\Code\\\\DataJoint\\\\orofacial_pipeline\\\\pipeline\\\\ingest\\\\loaders\\\\vincent.py\", line 293, in load_ephys\\n    raise FileNotFoundError(f\\'Unable to find one JRCLUST file - Found: {jrclust_fp}\\')\\nFileNotFoundError: Unable to find one JRCLUST file - Found: []\\n'],\n",
       "      dtype='<U596')], dtype=object)"
      ]
     },
     "execution_count": 5,
     "metadata": {},
     "output_type": "execute_result"
    }
   ],
   "source": [
    "error_stacks = behavior_ingest.schema.jobs.fetch('error_stack')\n",
    "error_stacks"
   ]
  },
  {
   "cell_type": "code",
   "execution_count": 9,
   "metadata": {},
   "outputs": [],
   "source": [
    "behavior_ingest.schema.jobs.delete()"
   ]
  },
  {
   "cell_type": "code",
   "execution_count": null,
   "metadata": {},
   "outputs": [],
   "source": []
  }
 ],
 "metadata": {
  "kernelspec": {
   "display_name": "Python 3",
   "language": "python",
   "name": "python3"
  },
  "language_info": {
   "codemirror_mode": {
    "name": "ipython",
    "version": 3
   },
   "file_extension": ".py",
   "mimetype": "text/x-python",
   "name": "python",
   "nbconvert_exporter": "python",
   "pygments_lexer": "ipython3",
   "version": "3.7.3"
  }
 },
 "nbformat": 4,
 "nbformat_minor": 4
}
