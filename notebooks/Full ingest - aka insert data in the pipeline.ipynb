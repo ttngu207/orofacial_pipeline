{
 "cells": [
  {
   "cell_type": "markdown",
   "metadata": {},
   "source": [
    "#### Data ingestion notebook"
   ]
  },
  {
   "cell_type": "code",
   "execution_count": 1,
   "metadata": {},
   "outputs": [
    {
     "name": "stdout",
     "output_type": "stream",
     "text": [
      "C:\\Code\\Datajoint\\orofacial_pipeline\n"
     ]
    }
   ],
   "source": [
    "cd .."
   ]
  },
  {
   "cell_type": "code",
   "execution_count": 2,
   "metadata": {},
   "outputs": [],
   "source": [
    "#add subject if it doesn't exist already\n",
    "#from pipeline import lab\n",
    "# lab.Subject.insert1(('vIRt48', 'vincent', '1311202', '2019-12-01', 'F', 'Lab made'))\n",
    "\n",
    "#Same for the probe\n",
    "#lab.Probe.insert1(('6264','CNT ASSY-37 P2','Probe44'))"
   ]
  },
  {
   "cell_type": "markdown",
   "metadata": {},
   "source": [
    "#### Import all data for a subject"
   ]
  },
  {
   "cell_type": "code",
   "execution_count": 3,
   "metadata": {},
   "outputs": [
    {
     "name": "stdout",
     "output_type": "stream",
     "text": [
      "Connecting vincent@datajoint-db.orofacial-sensorimotor-circuits.org:3306\n",
      "=========== SESSION INGESTION ===========\n",
      "=========== BEHAVIOR INGESTION ===========\n"
     ]
    },
    {
     "name": "stderr",
     "output_type": "stream",
     "text": [
      "  0%|                                                                                           | 0/23 [00:00<?, ?it/s]list index out of range\n",
      "  4%|███▌                                                                               | 1/23 [00:00<00:20,  1.07it/s]list index out of range\n",
      "  9%|███████▏                                                                           | 2/23 [00:01<00:18,  1.16it/s]list index out of range\n",
      " 13%|██████████▊                                                                        | 3/23 [00:02<00:16,  1.22it/s]list index out of range\n",
      " 17%|██████████████▍                                                                    | 4/23 [00:03<00:14,  1.27it/s]list index out of range\n",
      " 22%|██████████████████                                                                 | 5/23 [00:03<00:13,  1.30it/s]list index out of range\n",
      " 26%|█████████████████████▋                                                             | 6/23 [00:04<00:12,  1.32it/s]list index out of range\n",
      " 30%|█████████████████████████▎                                                         | 7/23 [00:05<00:12,  1.33it/s]list index out of range\n",
      " 35%|████████████████████████████▊                                                      | 8/23 [00:06<00:11,  1.33it/s]list index out of range\n",
      " 39%|████████████████████████████████▍                                                  | 9/23 [00:06<00:10,  1.33it/s]list index out of range\n",
      " 43%|███████████████████████████████████▋                                              | 10/23 [00:07<00:09,  1.33it/s]list index out of range\n",
      " 48%|███████████████████████████████████████▏                                          | 11/23 [00:08<00:09,  1.31it/s]list index out of range\n",
      " 52%|██████████████████████████████████████████▊                                       | 12/23 [00:09<00:08,  1.34it/s]list index out of range\n",
      " 57%|██████████████████████████████████████████████▎                                   | 13/23 [00:09<00:07,  1.36it/s]list index out of range\n",
      " 61%|█████████████████████████████████████████████████▉                                | 14/23 [00:10<00:06,  1.36it/s]list index out of range\n",
      " 65%|█████████████████████████████████████████████████████▍                            | 15/23 [00:11<00:05,  1.35it/s](1364, \"Field 'task_description' doesn't have a default value\")\n",
      " 70%|█████████████████████████████████████████████████████████                         | 16/23 [00:12<00:05,  1.20it/s](1364, \"Field 'task_description' doesn't have a default value\")\n",
      " 74%|████████████████████████████████████████████████████████████▌                     | 17/23 [00:13<00:05,  1.14it/s]D:\\Boulot\\Data\\Ephys\\vIRt49\\vIRt49_0917\\SpikeSorting\\vIRt49_0917_4780 not found!\n",
      " 78%|████████████████████████████████████████████████████████████████▏                 | 18/23 [00:14<00:04,  1.18it/s]D:\\Boulot\\Data\\Ephys\\vIRt49\\vIRt49_0917\\SpikeSorting\\vIRt49_0917_4950 not found!\n",
      " 83%|███████████████████████████████████████████████████████████████████▋              | 19/23 [00:14<00:03,  1.24it/s]D:\\Boulot\\Data\\Ephys\\vIRt49\\vIRt49_0917\\SpikeSorting\\vIRt49_0917_5150 not found!\n",
      " 87%|███████████████████████████████████████████████████████████████████████▎          | 20/23 [00:15<00:02,  1.27it/s]D:\\Boulot\\Data\\Ephys\\vIRt49\\vIRt49_0917\\SpikeSorting\\vIRt49_0917_5280 not found!\n",
      " 91%|██████████████████████████████████████████████████████████████████████████▊       | 21/23 [00:16<00:01,  1.29it/s]D:\\Boulot\\Data\\Ephys\\vIRt49\\vIRt49_0917\\SpikeSorting\\vIRt49_0917_5480 not found!\n",
      " 96%|██████████████████████████████████████████████████████████████████████████████▍   | 22/23 [00:16<00:00,  1.31it/s]D:\\Boulot\\Data\\Ephys\\vIRt49\\vIRt49_0917\\SpikeSorting\\vIRt49_0917_5680 not found!\n",
      "100%|██████████████████████████████████████████████████████████████████████████████████| 23/23 [00:17<00:00,  1.30it/s]\n"
     ]
    },
    {
     "name": "stdout",
     "output_type": "stream",
     "text": [
      "=========== TRACKING INGESTION ===========\n"
     ]
    },
    {
     "name": "stderr",
     "output_type": "stream",
     "text": [
      "  0%|                                                                                           | 0/23 [00:00<?, ?it/s]D:\\Boulot\\Data\\Ephys\\vIRt49\\vIRt49_0914\\WhiskerTracking not found!\n",
      "  4%|███▌                                                                               | 1/23 [00:00<00:16,  1.35it/s]D:\\Boulot\\Data\\Ephys\\vIRt49\\vIRt49_0914\\WhiskerTracking not found!\n",
      "  9%|███████▏                                                                           | 2/23 [00:01<00:15,  1.35it/s]D:\\Boulot\\Data\\Ephys\\vIRt49\\vIRt49_0914\\WhiskerTracking not found!\n",
      " 13%|██████████▊                                                                        | 3/23 [00:02<00:14,  1.35it/s]D:\\Boulot\\Data\\Ephys\\vIRt49\\vIRt49_0914\\WhiskerTracking not found!\n",
      " 17%|██████████████▍                                                                    | 4/23 [00:03<00:14,  1.33it/s]D:\\Boulot\\Data\\Ephys\\vIRt49\\vIRt49_0915\\WhiskerTracking not found!\n",
      " 22%|██████████████████                                                                 | 5/23 [00:03<00:13,  1.35it/s]D:\\Boulot\\Data\\Ephys\\vIRt49\\vIRt49_0915\\WhiskerTracking not found!\n",
      " 26%|█████████████████████▋                                                             | 6/23 [00:04<00:12,  1.35it/s]D:\\Boulot\\Data\\Ephys\\vIRt49\\vIRt49_0915\\WhiskerTracking not found!\n",
      " 30%|█████████████████████████▎                                                         | 7/23 [00:05<00:11,  1.34it/s]D:\\Boulot\\Data\\Ephys\\vIRt49\\vIRt49_0915\\WhiskerTracking not found!\n",
      " 35%|████████████████████████████▊                                                      | 8/23 [00:05<00:11,  1.35it/s]D:\\Boulot\\Data\\Ephys\\vIRt49\\vIRt49_0915\\WhiskerTracking not found!\n",
      " 39%|████████████████████████████████▍                                                  | 9/23 [00:06<00:10,  1.36it/s]D:\\Boulot\\Data\\Ephys\\vIRt49\\vIRt49_0915\\WhiskerTracking not found!\n",
      " 43%|███████████████████████████████████▋                                              | 10/23 [00:07<00:09,  1.37it/s]D:\\Boulot\\Data\\Ephys\\vIRt49\\vIRt49_0916\\WhiskerTracking not found!\n",
      " 48%|███████████████████████████████████████▏                                          | 11/23 [00:08<00:08,  1.36it/s]D:\\Boulot\\Data\\Ephys\\vIRt49\\vIRt49_0916\\WhiskerTracking not found!\n",
      " 52%|██████████████████████████████████████████▊                                       | 12/23 [00:08<00:08,  1.36it/s]D:\\Boulot\\Data\\Ephys\\vIRt49\\vIRt49_0916\\WhiskerTracking not found!\n",
      " 57%|██████████████████████████████████████████████▎                                   | 13/23 [00:09<00:07,  1.36it/s]D:\\Boulot\\Data\\Ephys\\vIRt49\\vIRt49_0916\\WhiskerTracking not found!\n",
      " 61%|█████████████████████████████████████████████████▉                                | 14/23 [00:10<00:06,  1.37it/s]D:\\Boulot\\Data\\Ephys\\vIRt49\\vIRt49_0916\\WhiskerTracking not found!\n",
      " 65%|█████████████████████████████████████████████████████▍                            | 15/23 [00:11<00:05,  1.34it/s]Unable to find tracking .mat - Found: []\n",
      " 70%|█████████████████████████████████████████████████████████                         | 16/23 [00:11<00:05,  1.34it/s]Unable to find tracking .mat - Found: []\n",
      " 74%|████████████████████████████████████████████████████████████▌                     | 17/23 [00:12<00:04,  1.35it/s]Unable to find tracking .mat - Found: []\n",
      " 78%|████████████████████████████████████████████████████████████████▏                 | 18/23 [00:13<00:03,  1.36it/s]Unable to find tracking .mat - Found: []\n",
      " 83%|███████████████████████████████████████████████████████████████████▋              | 19/23 [00:14<00:02,  1.37it/s]Unable to find tracking .mat - Found: []\n",
      " 87%|███████████████████████████████████████████████████████████████████████▎          | 20/23 [00:14<00:02,  1.37it/s]Unable to find tracking .mat - Found: []\n",
      " 91%|██████████████████████████████████████████████████████████████████████████▊       | 21/23 [00:15<00:01,  1.32it/s]Unable to find tracking .mat - Found: []\n",
      " 96%|██████████████████████████████████████████████████████████████████████████████▍   | 22/23 [00:16<00:00,  1.32it/s]Unable to find tracking .mat - Found: []\n",
      "100%|██████████████████████████████████████████████████████████████████████████████████| 23/23 [00:17<00:00,  1.34it/s]\n"
     ]
    },
    {
     "name": "stdout",
     "output_type": "stream",
     "text": [
      "=========== EPHYS INGESTION ===========\n"
     ]
    },
    {
     "name": "stderr",
     "output_type": "stream",
     "text": [
      "  0%|                                                                                           | 0/23 [00:00<?, ?it/s]D:\\Boulot\\Data\\Ephys\\vIRt49\\vIRt49_0914\\SpikeSorting\\vIRt49_0914_5400 not found!\n",
      "  4%|███▌                                                                               | 1/23 [00:00<00:16,  1.36it/s]D:\\Boulot\\Data\\Ephys\\vIRt49\\vIRt49_0914\\SpikeSorting\\vIRt49_0914_5550 not found!\n",
      "  9%|███████▏                                                                           | 2/23 [00:01<00:15,  1.37it/s]D:\\Boulot\\Data\\Ephys\\vIRt49\\vIRt49_0914\\SpikeSorting\\vIRt49_0914_5700 not found!\n",
      " 13%|██████████▊                                                                        | 3/23 [00:02<00:14,  1.35it/s]D:\\Boulot\\Data\\Ephys\\vIRt49\\vIRt49_0914\\SpikeSorting\\vIRt49_0914_running not found!\n",
      " 17%|██████████████▍                                                                    | 4/23 [00:02<00:14,  1.35it/s]D:\\Boulot\\Data\\Ephys\\vIRt49\\vIRt49_0915\\SpikeSorting\\vIRt49_0915_4308 not found!\n",
      " 22%|██████████████████                                                                 | 5/23 [00:03<00:13,  1.36it/s]D:\\Boulot\\Data\\Ephys\\vIRt49\\vIRt49_0915\\SpikeSorting\\vIRt49_0915_4909 not found!\n",
      " 26%|█████████████████████▋                                                             | 6/23 [00:04<00:12,  1.35it/s]D:\\Boulot\\Data\\Ephys\\vIRt49\\vIRt49_0915\\SpikeSorting\\vIRt49_0915_5048 not found!\n",
      " 30%|█████████████████████████▎                                                         | 7/23 [00:05<00:11,  1.34it/s]D:\\Boulot\\Data\\Ephys\\vIRt49\\vIRt49_0915\\SpikeSorting\\vIRt49_0915_5200 not found!\n",
      " 35%|████████████████████████████▊                                                      | 8/23 [00:05<00:11,  1.34it/s]D:\\Boulot\\Data\\Ephys\\vIRt49\\vIRt49_0915\\SpikeSorting\\vIRt49_0915_5400 not found!\n",
      " 39%|████████████████████████████████▍                                                  | 9/23 [00:06<00:10,  1.34it/s]D:\\Boulot\\Data\\Ephys\\vIRt49\\vIRt49_0915\\SpikeSorting\\vIRt49_0915_5600 not found!\n",
      " 43%|███████████████████████████████████▋                                              | 10/23 [00:07<00:09,  1.33it/s]D:\\Boulot\\Data\\Ephys\\vIRt49\\vIRt49_0916\\SpikeSorting\\vIRt49_0916_4500 not found!\n",
      " 48%|███████████████████████████████████████▏                                          | 11/23 [00:08<00:08,  1.34it/s]D:\\Boulot\\Data\\Ephys\\vIRt49\\vIRt49_0916\\SpikeSorting\\vIRt49_0916_4950 not found!\n",
      " 52%|██████████████████████████████████████████▊                                       | 12/23 [00:08<00:08,  1.34it/s]D:\\Boulot\\Data\\Ephys\\vIRt49\\vIRt49_0916\\SpikeSorting\\vIRt49_0916_5100 not found!\n",
      " 57%|██████████████████████████████████████████████▎                                   | 13/23 [00:09<00:07,  1.35it/s]D:\\Boulot\\Data\\Ephys\\vIRt49\\vIRt49_0916\\SpikeSorting\\vIRt49_0916_5250 not found!\n",
      " 61%|█████████████████████████████████████████████████▉                                | 14/23 [00:10<00:06,  1.35it/s]D:\\Boulot\\Data\\Ephys\\vIRt49\\vIRt49_0916\\SpikeSorting\\vIRt49_0916_5400 not found!\n",
      " 65%|█████████████████████████████████████████████████████▍                            | 15/23 [00:11<00:05,  1.35it/s]C:\\Code\\Datajoint\\orofacial_pipeline\\pipeline\\ingest\\ephys_ingest.py:113: VisibleDeprecationWarning: Creating an ndarray from ragged nested sequences (which is a list-or-tuple of lists-or-tuples-or ndarrays with different lengths or shapes) is deprecated. If you meant to do this, you must specify 'dtype=object' when creating the ndarray\n",
      "  unit_spikes = np.array([spikes[np.where(units == u)] for u in set(units)])\n",
      "C:\\Code\\Datajoint\\orofacial_pipeline\\pipeline\\ingest\\ephys_ingest.py:114: VisibleDeprecationWarning: Creating an ndarray from ragged nested sequences (which is a list-or-tuple of lists-or-tuples-or ndarrays with different lengths or shapes) is deprecated. If you meant to do this, you must specify 'dtype=object' when creating the ndarray\n",
      "  unit_spike_sites = np.array([spike_sites[np.where(units == u)] for u in set(units)])\n",
      "C:\\Code\\Datajoint\\orofacial_pipeline\\pipeline\\ingest\\ephys_ingest.py:115: VisibleDeprecationWarning: Creating an ndarray from ragged nested sequences (which is a list-or-tuple of lists-or-tuples-or ndarrays with different lengths or shapes) is deprecated. If you meant to do this, you must specify 'dtype=object' when creating the ndarray\n",
      "  unit_spike_depths = np.array([spike_depths[np.where(units == u)] for u in set(units)])\n",
      " 70%|█████████████████████████████████████████████████████████                         | 16/23 [00:21<00:24,  3.48s/it]C:\\Code\\Datajoint\\orofacial_pipeline\\pipeline\\ingest\\ephys_ingest.py:113: VisibleDeprecationWarning: Creating an ndarray from ragged nested sequences (which is a list-or-tuple of lists-or-tuples-or ndarrays with different lengths or shapes) is deprecated. If you meant to do this, you must specify 'dtype=object' when creating the ndarray\n",
      "  unit_spikes = np.array([spikes[np.where(units == u)] for u in set(units)])\n",
      "C:\\Code\\Datajoint\\orofacial_pipeline\\pipeline\\ingest\\ephys_ingest.py:114: VisibleDeprecationWarning: Creating an ndarray from ragged nested sequences (which is a list-or-tuple of lists-or-tuples-or ndarrays with different lengths or shapes) is deprecated. If you meant to do this, you must specify 'dtype=object' when creating the ndarray\n",
      "  unit_spike_sites = np.array([spike_sites[np.where(units == u)] for u in set(units)])\n",
      "C:\\Code\\Datajoint\\orofacial_pipeline\\pipeline\\ingest\\ephys_ingest.py:115: VisibleDeprecationWarning: Creating an ndarray from ragged nested sequences (which is a list-or-tuple of lists-or-tuples-or ndarrays with different lengths or shapes) is deprecated. If you meant to do this, you must specify 'dtype=object' when creating the ndarray\n",
      "  unit_spike_depths = np.array([spike_depths[np.where(units == u)] for u in set(units)])\n",
      " 74%|████████████████████████████████████████████████████████████▌                     | 17/23 [00:28<00:28,  4.76s/it]D:\\Boulot\\Data\\Ephys\\vIRt49\\vIRt49_0917\\SpikeSorting\\vIRt49_0917_4780 not found!\n",
      " 78%|████████████████████████████████████████████████████████████████▏                 | 18/23 [00:29<00:17,  3.56s/it]D:\\Boulot\\Data\\Ephys\\vIRt49\\vIRt49_0917\\SpikeSorting\\vIRt49_0917_4950 not found!\n",
      " 83%|███████████████████████████████████████████████████████████████████▋              | 19/23 [00:30<00:10,  2.71s/it]D:\\Boulot\\Data\\Ephys\\vIRt49\\vIRt49_0917\\SpikeSorting\\vIRt49_0917_5150 not found!\n",
      " 87%|███████████████████████████████████████████████████████████████████████▎          | 20/23 [00:31<00:06,  2.12s/it]D:\\Boulot\\Data\\Ephys\\vIRt49\\vIRt49_0917\\SpikeSorting\\vIRt49_0917_5280 not found!\n",
      " 91%|██████████████████████████████████████████████████████████████████████████▊       | 21/23 [00:31<00:03,  1.71s/it]D:\\Boulot\\Data\\Ephys\\vIRt49\\vIRt49_0917\\SpikeSorting\\vIRt49_0917_5480 not found!\n",
      " 96%|██████████████████████████████████████████████████████████████████████████████▍   | 22/23 [00:32<00:01,  1.42s/it]D:\\Boulot\\Data\\Ephys\\vIRt49\\vIRt49_0917\\SpikeSorting\\vIRt49_0917_5680 not found!\n",
      "100%|██████████████████████████████████████████████████████████████████████████████████| 23/23 [00:33<00:00,  1.45s/it]\n"
     ]
    }
   ],
   "source": [
    "from pipeline import shell\n",
    "shell.ingest_all('vIRt49')\n",
    "# from terminal: python scripts/cosmoshell.py insert-all vIRt49"
   ]
  }
 ],
 "metadata": {
  "kernelspec": {
   "display_name": "Python 3",
   "language": "python",
   "name": "python3"
  },
  "language_info": {
   "codemirror_mode": {
    "name": "ipython",
    "version": 3
   },
   "file_extension": ".py",
   "mimetype": "text/x-python",
   "name": "python",
   "nbconvert_exporter": "python",
   "pygments_lexer": "ipython3",
   "version": "3.7.7"
  }
 },
 "nbformat": 4,
 "nbformat_minor": 4
}
