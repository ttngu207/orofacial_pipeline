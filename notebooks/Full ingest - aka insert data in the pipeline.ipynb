{
 "cells": [
  {
   "cell_type": "markdown",
   "metadata": {},
   "source": [
    "#### Data ingestion notebook"
   ]
  },
  {
   "cell_type": "code",
   "execution_count": 1,
   "metadata": {},
   "outputs": [
    {
     "name": "stdout",
     "output_type": "stream",
     "text": [
      "C:\\Code\\orofacial_pipeline\n"
     ]
    }
   ],
   "source": [
    "cd .."
   ]
  },
  {
   "cell_type": "code",
   "execution_count": 2,
   "metadata": {},
   "outputs": [],
   "source": [
    "#add subject if it doesn't exist already\n",
    "#from pipeline import lab\n",
    "# lab.Subject.insert1(('vIRt48', 'vincent', '1311202', '2019-12-01', 'F', 'Lab made'))\n",
    "\n",
    "#Same for the probe\n",
    "#lab.Probe.insert1(('6264','CNT ASSY-37 P2','Probe44'))"
   ]
  },
  {
   "cell_type": "code",
   "execution_count": 2,
   "metadata": {},
   "outputs": [
    {
     "name": "stdout",
     "output_type": "stream",
     "text": [
      "Connecting wenxi@datajoint-db.orofacial-sensorimotor-circuits.org:3306\n"
     ]
    }
   ],
   "source": [
    "## to delete previously imported sessions:\n",
    "from pipeline import experiment\n",
    "from pipeline.ingest import session_ingest, tracking_ingest, ephys_ingest, behavior_ingest\n",
    "#experiment.Session.delete()"
   ]
  },
  {
   "cell_type": "code",
   "execution_count": 3,
   "metadata": {},
   "outputs": [
    {
     "name": "stdout",
     "output_type": "stream",
     "text": [
      "`cosmo_v0_experiment`.`session` (0 tuples)\n",
      "`cosmo_v0_experiment`.`f_p_imaging` (0 tuples)\n",
      "`cosmo_v0_experiment`.`f_p_imaging__imaging_location` (0 tuples)\n",
      "`cosmo_v0_experiment`.`__f_p_imaging_brain_region` (0 tuples)\n",
      "`cosmo_v0_experiment`.`session_comment` (0 tuples)\n",
      "`cosmo_v0_experiment`.`_session_trial` (0 tuples)\n",
      "`cosmo_v0_experiment`.`_trial_note` (0 tuples)\n",
      "`cosmo_v0_experiment`.`_photostim_trial` (0 tuples)\n",
      "`cosmo_v0_experiment`.`_behavior_trial` (0 tuples)\n",
      "`cosmo_v0_experiment`.`_trial_outcome` (0 tuples)\n",
      "`cosmo_v0_experiment`.`_trial_object` (0 tuples)\n",
      "`cosmo_v0_experiment`.`_trial_event` (0 tuples)\n",
      "`cosmo_v0_experiment`.`_action_event` (0 tuples)\n",
      "`cosmo_v0_experiment`.`session_training` (0 tuples)\n",
      "`cosmo_v0_tracking`.`_tracking` (0 tuples)\n",
      "`cosmo_v0_tracking`.`_tracking__whisker_tracking` (0 tuples)\n",
      "`cosmo_v0_tracking`.`tracked_whisker` (0 tuples)\n",
      "`cosmo_v0_tracking`.`tracked_whisker__whisker` (0 tuples)\n",
      "`cosmo_v0_tracking`.`__processed_whisker` (0 tuples)\n",
      "`cosmo_v0_tracking`.`_tracking__position_tracking` (0 tuples)\n",
      "`cosmo_v0_tracking`.`_tracking__object_tracking` (0 tuples)\n",
      "`cosmo_v0_tracking`.`_tracking__object_point` (0 tuples)\n",
      "`cosmo_v0_tracking`.`__whisker_object_distance` (0 tuples)\n",
      "`cosmo_v0_experiment`.`session_task` (0 tuples)\n",
      "`cosmo_v0_ephys`.`probe_insertion` (0 tuples)\n",
      "`cosmo_v0_histology`.`_labeled_probe_track` (0 tuples)\n",
      "`cosmo_v0_histology`.`_electrode_c_c_f_position` (0 tuples)\n",
      "`cosmo_v0_ephys`.`probe_insertion__recording_system_setup` (0 tuples)\n",
      "`cosmo_v0_ephys`.`probe_insertion__recordable_brain_region` (0 tuples)\n",
      "`cosmo_v0_ephys`.`probe_insertion__insertion_note` (0 tuples)\n",
      "`cosmo_v0_ephys`.`probe_insertion__insertion_location` (0 tuples)\n",
      "`cosmo_v0_ephys`.`_l_f_p` (0 tuples)\n",
      "`cosmo_v0_ephys`.`_l_f_p__channel` (0 tuples)\n",
      "`cosmo_v0_ephys`.`_clustering` (0 tuples)\n",
      "`cosmo_v0_ephys`.`_unit` (0 tuples)\n",
      "`cosmo_v0_ephys`.`_waveform_metric` (0 tuples)\n",
      "`cosmo_v0_ephys`.`_unit__waveform` (0 tuples)\n",
      "`cosmo_v0_ephys`.`_unit__trial_spikes` (0 tuples)\n",
      "`cosmo_v0_ephys`.`_cluster_metric` (0 tuples)\n",
      "`cosmo_v0_ephys`.`__unit_stat` (0 tuples)\n",
      "`cosmo_v0_ephys`.`__unit_cell_type` (0 tuples)\n",
      "`cosmo_v0_ingestion`.`_inserted_session` (0 tuples)\n",
      "`cosmo_v0_ingestion`.`_tracking_ingestion` (0 tuples)\n",
      "`cosmo_v0_ingestion`.`_tracking_ingestion__tracking_file` (0 tuples)\n",
      "`cosmo_v0_ingestion`.`_inserted_session__session_file` (0 tuples)\n",
      "`cosmo_v0_ingestion`.`_ephys_ingestion` (0 tuples)\n",
      "`cosmo_v0_ingestion`.`_ephys_ingestion__ephys_file` (0 tuples)\n",
      "`cosmo_v0_ingestion`.`_behavior_ingestion` (0 tuples)\n",
      "`cosmo_v0_ingestion`.`_behavior_ingestion__behavior_file` (0 tuples)\n",
      "`cosmo_v0_experiment`.`session__notes` (0 tuples)\n",
      "`cosmo_v0_experiment`.`photostim` (0 tuples)\n",
      "`cosmo_v0_experiment`.`photostim__photostim_location` (0 tuples)\n",
      "`cosmo_v0_experiment`.`_photostim_event` (0 tuples)\n",
      "`cosmo_v0_experiment`.`__photostim_brain_region` (0 tuples)\n",
      "`cosmo_v0_ephys`.`photo_tagged_unit` (0 tuples)\n",
      "Proceed? [yes, No]: yes\n"
     ]
    },
    {
     "ename": "IntegrityError",
     "evalue": "(1217, 'Cannot delete or update a parent row: a foreign key constraint fails')",
     "output_type": "error",
     "traceback": [
      "\u001b[1;31m---------------------------------------------------------------------------\u001b[0m",
      "\u001b[1;31mIntegrityError\u001b[0m                            Traceback (most recent call last)",
      "\u001b[1;32m<ipython-input-3-92b0ecc356b8>\u001b[0m in \u001b[0;36m<module>\u001b[1;34m\u001b[0m\n\u001b[1;32m----> 1\u001b[1;33m \u001b[0mexperiment\u001b[0m\u001b[1;33m.\u001b[0m\u001b[0mSession\u001b[0m\u001b[1;33m.\u001b[0m\u001b[0mdrop\u001b[0m\u001b[1;33m(\u001b[0m\u001b[1;33m)\u001b[0m\u001b[1;33m\u001b[0m\u001b[1;33m\u001b[0m\u001b[0m\n\u001b[0m",
      "\u001b[1;32m~\\Anaconda3\\envs\\datajoint\\lib\\site-packages\\datajoint\\table.py\u001b[0m in \u001b[0;36mdrop\u001b[1;34m(self)\u001b[0m\n\u001b[0;32m    477\u001b[0m         \u001b[1;32mif\u001b[0m \u001b[0mdo_drop\u001b[0m\u001b[1;33m:\u001b[0m\u001b[1;33m\u001b[0m\u001b[1;33m\u001b[0m\u001b[0m\n\u001b[0;32m    478\u001b[0m             \u001b[1;32mfor\u001b[0m \u001b[0mtable\u001b[0m \u001b[1;32min\u001b[0m \u001b[0mreversed\u001b[0m\u001b[1;33m(\u001b[0m\u001b[0mtables\u001b[0m\u001b[1;33m)\u001b[0m\u001b[1;33m:\u001b[0m\u001b[1;33m\u001b[0m\u001b[1;33m\u001b[0m\u001b[0m\n\u001b[1;32m--> 479\u001b[1;33m                 \u001b[0mFreeTable\u001b[0m\u001b[1;33m(\u001b[0m\u001b[0mself\u001b[0m\u001b[1;33m.\u001b[0m\u001b[0mconnection\u001b[0m\u001b[1;33m,\u001b[0m \u001b[0mtable\u001b[0m\u001b[1;33m)\u001b[0m\u001b[1;33m.\u001b[0m\u001b[0mdrop_quick\u001b[0m\u001b[1;33m(\u001b[0m\u001b[1;33m)\u001b[0m\u001b[1;33m\u001b[0m\u001b[1;33m\u001b[0m\u001b[0m\n\u001b[0m\u001b[0;32m    480\u001b[0m             \u001b[0mprint\u001b[0m\u001b[1;33m(\u001b[0m\u001b[1;34m'Tables dropped.  Restart kernel.'\u001b[0m\u001b[1;33m)\u001b[0m\u001b[1;33m\u001b[0m\u001b[1;33m\u001b[0m\u001b[0m\n\u001b[0;32m    481\u001b[0m \u001b[1;33m\u001b[0m\u001b[0m\n",
      "\u001b[1;32m~\\Anaconda3\\envs\\datajoint\\lib\\site-packages\\datajoint\\table.py\u001b[0m in \u001b[0;36mdrop_quick\u001b[1;34m(self)\u001b[0m\n\u001b[0;32m    453\u001b[0m         \u001b[1;32mif\u001b[0m \u001b[0mself\u001b[0m\u001b[1;33m.\u001b[0m\u001b[0mis_declared\u001b[0m\u001b[1;33m:\u001b[0m\u001b[1;33m\u001b[0m\u001b[1;33m\u001b[0m\u001b[0m\n\u001b[0;32m    454\u001b[0m             \u001b[0mquery\u001b[0m \u001b[1;33m=\u001b[0m \u001b[1;34m'DROP TABLE %s'\u001b[0m \u001b[1;33m%\u001b[0m \u001b[0mself\u001b[0m\u001b[1;33m.\u001b[0m\u001b[0mfull_table_name\u001b[0m\u001b[1;33m\u001b[0m\u001b[1;33m\u001b[0m\u001b[0m\n\u001b[1;32m--> 455\u001b[1;33m             \u001b[0mself\u001b[0m\u001b[1;33m.\u001b[0m\u001b[0mconnection\u001b[0m\u001b[1;33m.\u001b[0m\u001b[0mquery\u001b[0m\u001b[1;33m(\u001b[0m\u001b[0mquery\u001b[0m\u001b[1;33m)\u001b[0m\u001b[1;33m\u001b[0m\u001b[1;33m\u001b[0m\u001b[0m\n\u001b[0m\u001b[0;32m    456\u001b[0m             \u001b[0mlogger\u001b[0m\u001b[1;33m.\u001b[0m\u001b[0minfo\u001b[0m\u001b[1;33m(\u001b[0m\u001b[1;34m\"Dropped table %s\"\u001b[0m \u001b[1;33m%\u001b[0m \u001b[0mself\u001b[0m\u001b[1;33m.\u001b[0m\u001b[0mfull_table_name\u001b[0m\u001b[1;33m)\u001b[0m\u001b[1;33m\u001b[0m\u001b[1;33m\u001b[0m\u001b[0m\n\u001b[0;32m    457\u001b[0m             \u001b[0mself\u001b[0m\u001b[1;33m.\u001b[0m\u001b[0m_log\u001b[0m\u001b[1;33m(\u001b[0m\u001b[0mquery\u001b[0m\u001b[1;33m[\u001b[0m\u001b[1;33m:\u001b[0m\u001b[1;36m255\u001b[0m\u001b[1;33m]\u001b[0m\u001b[1;33m)\u001b[0m\u001b[1;33m\u001b[0m\u001b[1;33m\u001b[0m\u001b[0m\n",
      "\u001b[1;32m~\\Anaconda3\\envs\\datajoint\\lib\\site-packages\\datajoint\\connection.py\u001b[0m in \u001b[0;36mquery\u001b[1;34m(self, query, args, as_dict, suppress_warnings, reconnect)\u001b[0m\n\u001b[0;32m    212\u001b[0m         \u001b[0mcursor\u001b[0m \u001b[1;33m=\u001b[0m \u001b[0mself\u001b[0m\u001b[1;33m.\u001b[0m\u001b[0m_conn\u001b[0m\u001b[1;33m.\u001b[0m\u001b[0mcursor\u001b[0m\u001b[1;33m(\u001b[0m\u001b[0mcursor\u001b[0m\u001b[1;33m=\u001b[0m\u001b[0mcursor_class\u001b[0m\u001b[1;33m)\u001b[0m\u001b[1;33m\u001b[0m\u001b[1;33m\u001b[0m\u001b[0m\n\u001b[0;32m    213\u001b[0m         \u001b[1;32mtry\u001b[0m\u001b[1;33m:\u001b[0m\u001b[1;33m\u001b[0m\u001b[1;33m\u001b[0m\u001b[0m\n\u001b[1;32m--> 214\u001b[1;33m             \u001b[0mself\u001b[0m\u001b[1;33m.\u001b[0m\u001b[0m_execute_query\u001b[0m\u001b[1;33m(\u001b[0m\u001b[0mcursor\u001b[0m\u001b[1;33m,\u001b[0m \u001b[0mquery\u001b[0m\u001b[1;33m,\u001b[0m \u001b[0margs\u001b[0m\u001b[1;33m,\u001b[0m \u001b[0mcursor_class\u001b[0m\u001b[1;33m,\u001b[0m \u001b[0msuppress_warnings\u001b[0m\u001b[1;33m)\u001b[0m\u001b[1;33m\u001b[0m\u001b[1;33m\u001b[0m\u001b[0m\n\u001b[0m\u001b[0;32m    215\u001b[0m         \u001b[1;32mexcept\u001b[0m \u001b[0merrors\u001b[0m\u001b[1;33m.\u001b[0m\u001b[0mLostConnectionError\u001b[0m\u001b[1;33m:\u001b[0m\u001b[1;33m\u001b[0m\u001b[1;33m\u001b[0m\u001b[0m\n\u001b[0;32m    216\u001b[0m             \u001b[1;32mif\u001b[0m \u001b[1;32mnot\u001b[0m \u001b[0mreconnect\u001b[0m\u001b[1;33m:\u001b[0m\u001b[1;33m\u001b[0m\u001b[1;33m\u001b[0m\u001b[0m\n",
      "\u001b[1;32m~\\Anaconda3\\envs\\datajoint\\lib\\site-packages\\datajoint\\connection.py\u001b[0m in \u001b[0;36m_execute_query\u001b[1;34m(cursor, query, args, cursor_class, suppress_warnings)\u001b[0m\n\u001b[0;32m    194\u001b[0m                 \u001b[0mcursor\u001b[0m\u001b[1;33m.\u001b[0m\u001b[0mexecute\u001b[0m\u001b[1;33m(\u001b[0m\u001b[0mquery\u001b[0m\u001b[1;33m,\u001b[0m \u001b[0margs\u001b[0m\u001b[1;33m)\u001b[0m\u001b[1;33m\u001b[0m\u001b[1;33m\u001b[0m\u001b[0m\n\u001b[0;32m    195\u001b[0m         \u001b[1;32mexcept\u001b[0m \u001b[0mclient_errors\u001b[0m \u001b[1;32mas\u001b[0m \u001b[0merr\u001b[0m\u001b[1;33m:\u001b[0m\u001b[1;33m\u001b[0m\u001b[1;33m\u001b[0m\u001b[0m\n\u001b[1;32m--> 196\u001b[1;33m             \u001b[1;32mraise\u001b[0m \u001b[0mtranslate_query_error\u001b[0m\u001b[1;33m(\u001b[0m\u001b[0merr\u001b[0m\u001b[1;33m,\u001b[0m \u001b[0mquery\u001b[0m\u001b[1;33m)\u001b[0m \u001b[1;32mfrom\u001b[0m \u001b[1;32mNone\u001b[0m\u001b[1;33m\u001b[0m\u001b[1;33m\u001b[0m\u001b[0m\n\u001b[0m\u001b[0;32m    197\u001b[0m \u001b[1;33m\u001b[0m\u001b[0m\n\u001b[0;32m    198\u001b[0m     \u001b[1;32mdef\u001b[0m \u001b[0mquery\u001b[0m\u001b[1;33m(\u001b[0m\u001b[0mself\u001b[0m\u001b[1;33m,\u001b[0m \u001b[0mquery\u001b[0m\u001b[1;33m,\u001b[0m \u001b[0margs\u001b[0m\u001b[1;33m=\u001b[0m\u001b[1;33m(\u001b[0m\u001b[1;33m)\u001b[0m\u001b[1;33m,\u001b[0m \u001b[1;33m*\u001b[0m\u001b[1;33m,\u001b[0m \u001b[0mas_dict\u001b[0m\u001b[1;33m=\u001b[0m\u001b[1;32mFalse\u001b[0m\u001b[1;33m,\u001b[0m \u001b[0msuppress_warnings\u001b[0m\u001b[1;33m=\u001b[0m\u001b[1;32mTrue\u001b[0m\u001b[1;33m,\u001b[0m \u001b[0mreconnect\u001b[0m\u001b[1;33m=\u001b[0m\u001b[1;32mNone\u001b[0m\u001b[1;33m)\u001b[0m\u001b[1;33m:\u001b[0m\u001b[1;33m\u001b[0m\u001b[1;33m\u001b[0m\u001b[0m\n",
      "\u001b[1;32m~\\Anaconda3\\envs\\datajoint\\lib\\site-packages\\datajoint\\connection.py\u001b[0m in \u001b[0;36m_execute_query\u001b[1;34m(cursor, query, args, cursor_class, suppress_warnings)\u001b[0m\n\u001b[0;32m    192\u001b[0m                     \u001b[1;31m# suppress all warnings arising from underlying SQL library\u001b[0m\u001b[1;33m\u001b[0m\u001b[1;33m\u001b[0m\u001b[1;33m\u001b[0m\u001b[0m\n\u001b[0;32m    193\u001b[0m                     \u001b[0mwarnings\u001b[0m\u001b[1;33m.\u001b[0m\u001b[0msimplefilter\u001b[0m\u001b[1;33m(\u001b[0m\u001b[1;34m\"ignore\"\u001b[0m\u001b[1;33m)\u001b[0m\u001b[1;33m\u001b[0m\u001b[1;33m\u001b[0m\u001b[0m\n\u001b[1;32m--> 194\u001b[1;33m                 \u001b[0mcursor\u001b[0m\u001b[1;33m.\u001b[0m\u001b[0mexecute\u001b[0m\u001b[1;33m(\u001b[0m\u001b[0mquery\u001b[0m\u001b[1;33m,\u001b[0m \u001b[0margs\u001b[0m\u001b[1;33m)\u001b[0m\u001b[1;33m\u001b[0m\u001b[1;33m\u001b[0m\u001b[0m\n\u001b[0m\u001b[0;32m    195\u001b[0m         \u001b[1;32mexcept\u001b[0m \u001b[0mclient_errors\u001b[0m \u001b[1;32mas\u001b[0m \u001b[0merr\u001b[0m\u001b[1;33m:\u001b[0m\u001b[1;33m\u001b[0m\u001b[1;33m\u001b[0m\u001b[0m\n\u001b[0;32m    196\u001b[0m             \u001b[1;32mraise\u001b[0m \u001b[0mtranslate_query_error\u001b[0m\u001b[1;33m(\u001b[0m\u001b[0merr\u001b[0m\u001b[1;33m,\u001b[0m \u001b[0mquery\u001b[0m\u001b[1;33m)\u001b[0m \u001b[1;32mfrom\u001b[0m \u001b[1;32mNone\u001b[0m\u001b[1;33m\u001b[0m\u001b[1;33m\u001b[0m\u001b[0m\n",
      "\u001b[1;32m~\\Anaconda3\\envs\\datajoint\\lib\\site-packages\\pymysql\\cursors.py\u001b[0m in \u001b[0;36mexecute\u001b[1;34m(self, query, args)\u001b[0m\n\u001b[0;32m    161\u001b[0m         \u001b[0mquery\u001b[0m \u001b[1;33m=\u001b[0m \u001b[0mself\u001b[0m\u001b[1;33m.\u001b[0m\u001b[0mmogrify\u001b[0m\u001b[1;33m(\u001b[0m\u001b[0mquery\u001b[0m\u001b[1;33m,\u001b[0m \u001b[0margs\u001b[0m\u001b[1;33m)\u001b[0m\u001b[1;33m\u001b[0m\u001b[1;33m\u001b[0m\u001b[0m\n\u001b[0;32m    162\u001b[0m \u001b[1;33m\u001b[0m\u001b[0m\n\u001b[1;32m--> 163\u001b[1;33m         \u001b[0mresult\u001b[0m \u001b[1;33m=\u001b[0m \u001b[0mself\u001b[0m\u001b[1;33m.\u001b[0m\u001b[0m_query\u001b[0m\u001b[1;33m(\u001b[0m\u001b[0mquery\u001b[0m\u001b[1;33m)\u001b[0m\u001b[1;33m\u001b[0m\u001b[1;33m\u001b[0m\u001b[0m\n\u001b[0m\u001b[0;32m    164\u001b[0m         \u001b[0mself\u001b[0m\u001b[1;33m.\u001b[0m\u001b[0m_executed\u001b[0m \u001b[1;33m=\u001b[0m \u001b[0mquery\u001b[0m\u001b[1;33m\u001b[0m\u001b[1;33m\u001b[0m\u001b[0m\n\u001b[0;32m    165\u001b[0m         \u001b[1;32mreturn\u001b[0m \u001b[0mresult\u001b[0m\u001b[1;33m\u001b[0m\u001b[1;33m\u001b[0m\u001b[0m\n",
      "\u001b[1;32m~\\Anaconda3\\envs\\datajoint\\lib\\site-packages\\pymysql\\cursors.py\u001b[0m in \u001b[0;36m_query\u001b[1;34m(self, q)\u001b[0m\n\u001b[0;32m    319\u001b[0m         \u001b[0mself\u001b[0m\u001b[1;33m.\u001b[0m\u001b[0m_last_executed\u001b[0m \u001b[1;33m=\u001b[0m \u001b[0mq\u001b[0m\u001b[1;33m\u001b[0m\u001b[1;33m\u001b[0m\u001b[0m\n\u001b[0;32m    320\u001b[0m         \u001b[0mself\u001b[0m\u001b[1;33m.\u001b[0m\u001b[0m_clear_result\u001b[0m\u001b[1;33m(\u001b[0m\u001b[1;33m)\u001b[0m\u001b[1;33m\u001b[0m\u001b[1;33m\u001b[0m\u001b[0m\n\u001b[1;32m--> 321\u001b[1;33m         \u001b[0mconn\u001b[0m\u001b[1;33m.\u001b[0m\u001b[0mquery\u001b[0m\u001b[1;33m(\u001b[0m\u001b[0mq\u001b[0m\u001b[1;33m)\u001b[0m\u001b[1;33m\u001b[0m\u001b[1;33m\u001b[0m\u001b[0m\n\u001b[0m\u001b[0;32m    322\u001b[0m         \u001b[0mself\u001b[0m\u001b[1;33m.\u001b[0m\u001b[0m_do_get_result\u001b[0m\u001b[1;33m(\u001b[0m\u001b[1;33m)\u001b[0m\u001b[1;33m\u001b[0m\u001b[1;33m\u001b[0m\u001b[0m\n\u001b[0;32m    323\u001b[0m         \u001b[1;32mreturn\u001b[0m \u001b[0mself\u001b[0m\u001b[1;33m.\u001b[0m\u001b[0mrowcount\u001b[0m\u001b[1;33m\u001b[0m\u001b[1;33m\u001b[0m\u001b[0m\n",
      "\u001b[1;32m~\\Anaconda3\\envs\\datajoint\\lib\\site-packages\\pymysql\\connections.py\u001b[0m in \u001b[0;36mquery\u001b[1;34m(self, sql, unbuffered)\u001b[0m\n\u001b[0;32m    503\u001b[0m                 \u001b[0msql\u001b[0m \u001b[1;33m=\u001b[0m \u001b[0msql\u001b[0m\u001b[1;33m.\u001b[0m\u001b[0mencode\u001b[0m\u001b[1;33m(\u001b[0m\u001b[0mself\u001b[0m\u001b[1;33m.\u001b[0m\u001b[0mencoding\u001b[0m\u001b[1;33m,\u001b[0m \u001b[1;34m'surrogateescape'\u001b[0m\u001b[1;33m)\u001b[0m\u001b[1;33m\u001b[0m\u001b[1;33m\u001b[0m\u001b[0m\n\u001b[0;32m    504\u001b[0m         \u001b[0mself\u001b[0m\u001b[1;33m.\u001b[0m\u001b[0m_execute_command\u001b[0m\u001b[1;33m(\u001b[0m\u001b[0mCOMMAND\u001b[0m\u001b[1;33m.\u001b[0m\u001b[0mCOM_QUERY\u001b[0m\u001b[1;33m,\u001b[0m \u001b[0msql\u001b[0m\u001b[1;33m)\u001b[0m\u001b[1;33m\u001b[0m\u001b[1;33m\u001b[0m\u001b[0m\n\u001b[1;32m--> 505\u001b[1;33m         \u001b[0mself\u001b[0m\u001b[1;33m.\u001b[0m\u001b[0m_affected_rows\u001b[0m \u001b[1;33m=\u001b[0m \u001b[0mself\u001b[0m\u001b[1;33m.\u001b[0m\u001b[0m_read_query_result\u001b[0m\u001b[1;33m(\u001b[0m\u001b[0munbuffered\u001b[0m\u001b[1;33m=\u001b[0m\u001b[0munbuffered\u001b[0m\u001b[1;33m)\u001b[0m\u001b[1;33m\u001b[0m\u001b[1;33m\u001b[0m\u001b[0m\n\u001b[0m\u001b[0;32m    506\u001b[0m         \u001b[1;32mreturn\u001b[0m \u001b[0mself\u001b[0m\u001b[1;33m.\u001b[0m\u001b[0m_affected_rows\u001b[0m\u001b[1;33m\u001b[0m\u001b[1;33m\u001b[0m\u001b[0m\n\u001b[0;32m    507\u001b[0m \u001b[1;33m\u001b[0m\u001b[0m\n",
      "\u001b[1;32m~\\Anaconda3\\envs\\datajoint\\lib\\site-packages\\pymysql\\connections.py\u001b[0m in \u001b[0;36m_read_query_result\u001b[1;34m(self, unbuffered)\u001b[0m\n\u001b[0;32m    722\u001b[0m         \u001b[1;32melse\u001b[0m\u001b[1;33m:\u001b[0m\u001b[1;33m\u001b[0m\u001b[1;33m\u001b[0m\u001b[0m\n\u001b[0;32m    723\u001b[0m             \u001b[0mresult\u001b[0m \u001b[1;33m=\u001b[0m \u001b[0mMySQLResult\u001b[0m\u001b[1;33m(\u001b[0m\u001b[0mself\u001b[0m\u001b[1;33m)\u001b[0m\u001b[1;33m\u001b[0m\u001b[1;33m\u001b[0m\u001b[0m\n\u001b[1;32m--> 724\u001b[1;33m             \u001b[0mresult\u001b[0m\u001b[1;33m.\u001b[0m\u001b[0mread\u001b[0m\u001b[1;33m(\u001b[0m\u001b[1;33m)\u001b[0m\u001b[1;33m\u001b[0m\u001b[1;33m\u001b[0m\u001b[0m\n\u001b[0m\u001b[0;32m    725\u001b[0m         \u001b[0mself\u001b[0m\u001b[1;33m.\u001b[0m\u001b[0m_result\u001b[0m \u001b[1;33m=\u001b[0m \u001b[0mresult\u001b[0m\u001b[1;33m\u001b[0m\u001b[1;33m\u001b[0m\u001b[0m\n\u001b[0;32m    726\u001b[0m         \u001b[1;32mif\u001b[0m \u001b[0mresult\u001b[0m\u001b[1;33m.\u001b[0m\u001b[0mserver_status\u001b[0m \u001b[1;32mis\u001b[0m \u001b[1;32mnot\u001b[0m \u001b[1;32mNone\u001b[0m\u001b[1;33m:\u001b[0m\u001b[1;33m\u001b[0m\u001b[1;33m\u001b[0m\u001b[0m\n",
      "\u001b[1;32m~\\Anaconda3\\envs\\datajoint\\lib\\site-packages\\pymysql\\connections.py\u001b[0m in \u001b[0;36mread\u001b[1;34m(self)\u001b[0m\n\u001b[0;32m   1067\u001b[0m     \u001b[1;32mdef\u001b[0m \u001b[0mread\u001b[0m\u001b[1;33m(\u001b[0m\u001b[0mself\u001b[0m\u001b[1;33m)\u001b[0m\u001b[1;33m:\u001b[0m\u001b[1;33m\u001b[0m\u001b[1;33m\u001b[0m\u001b[0m\n\u001b[0;32m   1068\u001b[0m         \u001b[1;32mtry\u001b[0m\u001b[1;33m:\u001b[0m\u001b[1;33m\u001b[0m\u001b[1;33m\u001b[0m\u001b[0m\n\u001b[1;32m-> 1069\u001b[1;33m             \u001b[0mfirst_packet\u001b[0m \u001b[1;33m=\u001b[0m \u001b[0mself\u001b[0m\u001b[1;33m.\u001b[0m\u001b[0mconnection\u001b[0m\u001b[1;33m.\u001b[0m\u001b[0m_read_packet\u001b[0m\u001b[1;33m(\u001b[0m\u001b[1;33m)\u001b[0m\u001b[1;33m\u001b[0m\u001b[1;33m\u001b[0m\u001b[0m\n\u001b[0m\u001b[0;32m   1070\u001b[0m \u001b[1;33m\u001b[0m\u001b[0m\n\u001b[0;32m   1071\u001b[0m             \u001b[1;32mif\u001b[0m \u001b[0mfirst_packet\u001b[0m\u001b[1;33m.\u001b[0m\u001b[0mis_ok_packet\u001b[0m\u001b[1;33m(\u001b[0m\u001b[1;33m)\u001b[0m\u001b[1;33m:\u001b[0m\u001b[1;33m\u001b[0m\u001b[1;33m\u001b[0m\u001b[0m\n",
      "\u001b[1;32m~\\Anaconda3\\envs\\datajoint\\lib\\site-packages\\pymysql\\connections.py\u001b[0m in \u001b[0;36m_read_packet\u001b[1;34m(self, packet_type)\u001b[0m\n\u001b[0;32m    674\u001b[0m             \u001b[1;32mif\u001b[0m \u001b[0mself\u001b[0m\u001b[1;33m.\u001b[0m\u001b[0m_result\u001b[0m \u001b[1;32mis\u001b[0m \u001b[1;32mnot\u001b[0m \u001b[1;32mNone\u001b[0m \u001b[1;32mand\u001b[0m \u001b[0mself\u001b[0m\u001b[1;33m.\u001b[0m\u001b[0m_result\u001b[0m\u001b[1;33m.\u001b[0m\u001b[0munbuffered_active\u001b[0m \u001b[1;32mis\u001b[0m \u001b[1;32mTrue\u001b[0m\u001b[1;33m:\u001b[0m\u001b[1;33m\u001b[0m\u001b[1;33m\u001b[0m\u001b[0m\n\u001b[0;32m    675\u001b[0m                 \u001b[0mself\u001b[0m\u001b[1;33m.\u001b[0m\u001b[0m_result\u001b[0m\u001b[1;33m.\u001b[0m\u001b[0munbuffered_active\u001b[0m \u001b[1;33m=\u001b[0m \u001b[1;32mFalse\u001b[0m\u001b[1;33m\u001b[0m\u001b[1;33m\u001b[0m\u001b[0m\n\u001b[1;32m--> 676\u001b[1;33m             \u001b[0mpacket\u001b[0m\u001b[1;33m.\u001b[0m\u001b[0mraise_for_error\u001b[0m\u001b[1;33m(\u001b[0m\u001b[1;33m)\u001b[0m\u001b[1;33m\u001b[0m\u001b[1;33m\u001b[0m\u001b[0m\n\u001b[0m\u001b[0;32m    677\u001b[0m         \u001b[1;32mreturn\u001b[0m \u001b[0mpacket\u001b[0m\u001b[1;33m\u001b[0m\u001b[1;33m\u001b[0m\u001b[0m\n\u001b[0;32m    678\u001b[0m \u001b[1;33m\u001b[0m\u001b[0m\n",
      "\u001b[1;32m~\\Anaconda3\\envs\\datajoint\\lib\\site-packages\\pymysql\\protocol.py\u001b[0m in \u001b[0;36mraise_for_error\u001b[1;34m(self)\u001b[0m\n\u001b[0;32m    221\u001b[0m         \u001b[0merrno\u001b[0m \u001b[1;33m=\u001b[0m \u001b[0mself\u001b[0m\u001b[1;33m.\u001b[0m\u001b[0mread_uint16\u001b[0m\u001b[1;33m(\u001b[0m\u001b[1;33m)\u001b[0m\u001b[1;33m\u001b[0m\u001b[1;33m\u001b[0m\u001b[0m\n\u001b[0;32m    222\u001b[0m         \u001b[1;32mif\u001b[0m \u001b[0mDEBUG\u001b[0m\u001b[1;33m:\u001b[0m \u001b[0mprint\u001b[0m\u001b[1;33m(\u001b[0m\u001b[1;34m\"errno =\"\u001b[0m\u001b[1;33m,\u001b[0m \u001b[0merrno\u001b[0m\u001b[1;33m)\u001b[0m\u001b[1;33m\u001b[0m\u001b[1;33m\u001b[0m\u001b[0m\n\u001b[1;32m--> 223\u001b[1;33m         \u001b[0merr\u001b[0m\u001b[1;33m.\u001b[0m\u001b[0mraise_mysql_exception\u001b[0m\u001b[1;33m(\u001b[0m\u001b[0mself\u001b[0m\u001b[1;33m.\u001b[0m\u001b[0m_data\u001b[0m\u001b[1;33m)\u001b[0m\u001b[1;33m\u001b[0m\u001b[1;33m\u001b[0m\u001b[0m\n\u001b[0m\u001b[0;32m    224\u001b[0m \u001b[1;33m\u001b[0m\u001b[0m\n\u001b[0;32m    225\u001b[0m     \u001b[1;32mdef\u001b[0m \u001b[0mdump\u001b[0m\u001b[1;33m(\u001b[0m\u001b[0mself\u001b[0m\u001b[1;33m)\u001b[0m\u001b[1;33m:\u001b[0m\u001b[1;33m\u001b[0m\u001b[1;33m\u001b[0m\u001b[0m\n",
      "\u001b[1;32m~\\Anaconda3\\envs\\datajoint\\lib\\site-packages\\pymysql\\err.py\u001b[0m in \u001b[0;36mraise_mysql_exception\u001b[1;34m(data)\u001b[0m\n\u001b[0;32m    105\u001b[0m     \u001b[1;32mif\u001b[0m \u001b[0merrorclass\u001b[0m \u001b[1;32mis\u001b[0m \u001b[1;32mNone\u001b[0m\u001b[1;33m:\u001b[0m\u001b[1;33m\u001b[0m\u001b[1;33m\u001b[0m\u001b[0m\n\u001b[0;32m    106\u001b[0m         \u001b[0merrorclass\u001b[0m \u001b[1;33m=\u001b[0m \u001b[0mInternalError\u001b[0m \u001b[1;32mif\u001b[0m \u001b[0merrno\u001b[0m \u001b[1;33m<\u001b[0m \u001b[1;36m1000\u001b[0m \u001b[1;32melse\u001b[0m \u001b[0mOperationalError\u001b[0m\u001b[1;33m\u001b[0m\u001b[1;33m\u001b[0m\u001b[0m\n\u001b[1;32m--> 107\u001b[1;33m     \u001b[1;32mraise\u001b[0m \u001b[0merrorclass\u001b[0m\u001b[1;33m(\u001b[0m\u001b[0merrno\u001b[0m\u001b[1;33m,\u001b[0m \u001b[0merrval\u001b[0m\u001b[1;33m)\u001b[0m\u001b[1;33m\u001b[0m\u001b[1;33m\u001b[0m\u001b[0m\n\u001b[0m",
      "\u001b[1;31mIntegrityError\u001b[0m: (1217, 'Cannot delete or update a parent row: a foreign key constraint fails')"
     ]
    }
   ],
   "source": [
    "experiment.Session.drop()"
   ]
  },
  {
   "cell_type": "markdown",
   "metadata": {},
   "source": [
    "#### Import all data for a subject"
   ]
  },
  {
   "cell_type": "code",
   "execution_count": 2,
   "metadata": {},
   "outputs": [
    {
     "name": "stdout",
     "output_type": "stream",
     "text": [
      "Connecting vincent@datajoint-db.orofacial-sensorimotor-circuits.org:3306\n",
      "=========== SESSION INGESTION ===========\n",
      "=========== BEHAVIOR INGESTION ===========\n"
     ]
    },
    {
     "name": "stderr",
     "output_type": "stream",
     "text": [
      "  0%|                                                                                            | 0/1 [00:00<?, ?it/s]Duplicate entry 'vIRt49-4-0' for key 'PRIMARY' : To ignore duplicate entries, set skip_duplicates=True in insert.\n",
      "100%|████████████████████████████████████████████████████████████████████████████████████| 1/1 [00:00<00:00,  1.51it/s]\n"
     ]
    },
    {
     "name": "stdout",
     "output_type": "stream",
     "text": [
      "=========== TRACKING INGESTION ===========\n"
     ]
    },
    {
     "name": "stderr",
     "output_type": "stream",
     "text": [
      "0it [00:00, ?it/s]\n"
     ]
    },
    {
     "name": "stdout",
     "output_type": "stream",
     "text": [
      "=========== EPHYS INGESTION ===========\n"
     ]
    },
    {
     "name": "stderr",
     "output_type": "stream",
     "text": [
      "  0%|                                                                                            | 0/1 [00:00<?, ?it/s]Unable to find one JRCLUST file - Found: []\n",
      "100%|████████████████████████████████████████████████████████████████████████████████████| 1/1 [00:00<00:00,  2.52it/s]\n"
     ]
    }
   ],
   "source": [
    "from pipeline import shell\n",
    "shell.ingest_all('vIRt49')\n",
    "# from terminal: python scripts/cosmoshell.py ingest-all vIRt49"
   ]
  },
  {
   "cell_type": "code",
   "execution_count": 3,
   "metadata": {},
   "outputs": [
    {
     "name": "stdout",
     "output_type": "stream",
     "text": [
      "Connecting vincent@datajoint-db.orofacial-sensorimotor-circuits.org:3306\n"
     ]
    }
   ],
   "source": [
    "from pipeline import experiment, tracking"
   ]
  },
  {
   "cell_type": "code",
   "execution_count": 4,
   "metadata": {},
   "outputs": [
    {
     "data": {
      "text/html": [
       "\n",
       "        \n",
       "        <style type=\"text/css\">\n",
       "            .Relation{\n",
       "                border-collapse:collapse;\n",
       "            }\n",
       "            .Relation th{\n",
       "                background: #A0A0A0; color: #ffffff; padding:4px; border:#f0e0e0 1px solid;\n",
       "                font-weight: normal; font-family: monospace; font-size: 100%;\n",
       "            }\n",
       "            .Relation td{\n",
       "                padding:4px; border:#f0e0e0 1px solid; font-size:100%;\n",
       "            }\n",
       "            .Relation tr:nth-child(odd){\n",
       "                background: #ffffff;\n",
       "            }\n",
       "            .Relation tr:nth-child(even){\n",
       "                background: #f3f1ff;\n",
       "            }\n",
       "            /* Tooltip container */\n",
       "            .djtooltip {\n",
       "            }\n",
       "            /* Tooltip text */\n",
       "            .djtooltip .djtooltiptext {\n",
       "                visibility: hidden;\n",
       "                width: 120px;\n",
       "                background-color: black;\n",
       "                color: #fff;\n",
       "                text-align: center;\n",
       "                padding: 5px 0;\n",
       "                border-radius: 6px;\n",
       "                /* Position the tooltip text - see examples below! */\n",
       "                position: absolute;\n",
       "                z-index: 1;\n",
       "            }\n",
       "            #primary {\n",
       "                font-weight: bold;\n",
       "                color: black;\n",
       "            }\n",
       "\n",
       "            #nonprimary {\n",
       "                font-weight: normal;\n",
       "                color: white;\n",
       "            }\n",
       "\n",
       "            /* Show the tooltip text when you mouse over the tooltip container */\n",
       "            .djtooltip:hover .djtooltiptext {\n",
       "                visibility: visible;\n",
       "            }\n",
       "        </style>\n",
       "        \n",
       "        <b></b>\n",
       "            <div style=\"max-height:1000px;max-width:1500px;overflow:auto;\">\n",
       "            <table border=\"1\" class=\"Relation\">\n",
       "                <thead> <tr style=\"text-align: right;\"> <th> <div class=\"djtooltip\">\n",
       "                                <p id=\"primary\">subject_id</p>\n",
       "                                <span class=\"djtooltiptext\"></span>\n",
       "                            </div></th><th><div class=\"djtooltip\">\n",
       "                                <p id=\"primary\">session</p>\n",
       "                                <span class=\"djtooltiptext\">session number</span>\n",
       "                            </div></th><th><div class=\"djtooltip\">\n",
       "                                <p id=\"nonprimary\">session_date</p>\n",
       "                                <span class=\"djtooltiptext\"></span>\n",
       "                            </div></th><th><div class=\"djtooltip\">\n",
       "                                <p id=\"nonprimary\">session_time</p>\n",
       "                                <span class=\"djtooltiptext\">computer time for t=0. This is the start of the data acquisition from the master device (typically with the highest sampling rate, e.g., ephys acquisition device)</span>\n",
       "                            </div></th><th><div class=\"djtooltip\">\n",
       "                                <p id=\"nonprimary\">session_basename</p>\n",
       "                                <span class=\"djtooltiptext\">unique id used for referencing session files. All files associated to that session should contain that base name (or be within a folder that does)</span>\n",
       "                            </div></th><th><div class=\"djtooltip\">\n",
       "                                <p id=\"nonprimary\">username</p>\n",
       "                                <span class=\"djtooltiptext\"></span>\n",
       "                            </div></th><th><div class=\"djtooltip\">\n",
       "                                <p id=\"nonprimary\">rig</p>\n",
       "                                <span class=\"djtooltiptext\"></span>\n",
       "                            </div> </th> </tr> </thead>\n",
       "                <tbody> <tr> <td>vIRt49</td>\n",
       "<td>1</td>\n",
       "<td>2020-09-14</td>\n",
       "<td>17:11:02</td>\n",
       "<td>vIRt49_0914_5400</td>\n",
       "<td>vincent</td>\n",
       "<td>vincent_ephys_335</td></tr><tr><td>vIRt49</td>\n",
       "<td>2</td>\n",
       "<td>2020-09-14</td>\n",
       "<td>17:23:29</td>\n",
       "<td>vIRt49_0914_5550</td>\n",
       "<td>vincent</td>\n",
       "<td>vincent_ephys_335</td></tr><tr><td>vIRt49</td>\n",
       "<td>3</td>\n",
       "<td>2020-09-14</td>\n",
       "<td>17:29:50</td>\n",
       "<td>vIRt49_0914_5700</td>\n",
       "<td>vincent</td>\n",
       "<td>vincent_ephys_335</td></tr><tr><td>vIRt49</td>\n",
       "<td>4</td>\n",
       "<td>2020-09-14</td>\n",
       "<td>16:02:47</td>\n",
       "<td>vIRt49_0914_running</td>\n",
       "<td>vincent</td>\n",
       "<td>vincent_ephys_335</td></tr><tr><td>vIRt49</td>\n",
       "<td>5</td>\n",
       "<td>2020-09-15</td>\n",
       "<td>18:41:01</td>\n",
       "<td>vIRt49_0915_4308</td>\n",
       "<td>vincent</td>\n",
       "<td>vincent_ephys_335</td></tr><tr><td>vIRt49</td>\n",
       "<td>6</td>\n",
       "<td>2020-09-15</td>\n",
       "<td>19:01:56</td>\n",
       "<td>vIRt49_0915_4909</td>\n",
       "<td>vincent</td>\n",
       "<td>vincent_ephys_335</td></tr><tr><td>vIRt49</td>\n",
       "<td>7</td>\n",
       "<td>2020-09-15</td>\n",
       "<td>19:11:09</td>\n",
       "<td>vIRt49_0915_5048</td>\n",
       "<td>vincent</td>\n",
       "<td>vincent_ephys_335</td> </tr> </tbody>\n",
       "            </table>\n",
       "            <p>...</p>\n",
       "            <p>Total: 23</p></div>\n",
       "            "
      ],
      "text/plain": [
       "*subject_id    *session    session_date   session_time   session_basena username     rig           \n",
       "+------------+ +---------+ +------------+ +------------+ +------------+ +----------+ +------------+\n",
       "vIRt49         1           2020-09-14     17:11:02       vIRt49_0914_54 vincent      vincent_ephys_\n",
       "vIRt49         2           2020-09-14     17:23:29       vIRt49_0914_55 vincent      vincent_ephys_\n",
       "vIRt49         3           2020-09-14     17:29:50       vIRt49_0914_57 vincent      vincent_ephys_\n",
       "vIRt49         4           2020-09-14     16:02:47       vIRt49_0914_ru vincent      vincent_ephys_\n",
       "vIRt49         5           2020-09-15     18:41:01       vIRt49_0915_43 vincent      vincent_ephys_\n",
       "vIRt49         6           2020-09-15     19:01:56       vIRt49_0915_49 vincent      vincent_ephys_\n",
       "vIRt49         7           2020-09-15     19:11:09       vIRt49_0915_50 vincent      vincent_ephys_\n",
       "   ...\n",
       " (Total: 23)"
      ]
     },
     "execution_count": 4,
     "metadata": {},
     "output_type": "execute_result"
    }
   ],
   "source": [
    "experiment.Session()"
   ]
  },
  {
   "cell_type": "code",
   "execution_count": 5,
   "metadata": {},
   "outputs": [
    {
     "data": {
      "text/html": [
       "\n",
       "        \n",
       "        <style type=\"text/css\">\n",
       "            .Relation{\n",
       "                border-collapse:collapse;\n",
       "            }\n",
       "            .Relation th{\n",
       "                background: #A0A0A0; color: #ffffff; padding:4px; border:#f0e0e0 1px solid;\n",
       "                font-weight: normal; font-family: monospace; font-size: 100%;\n",
       "            }\n",
       "            .Relation td{\n",
       "                padding:4px; border:#f0e0e0 1px solid; font-size:100%;\n",
       "            }\n",
       "            .Relation tr:nth-child(odd){\n",
       "                background: #ffffff;\n",
       "            }\n",
       "            .Relation tr:nth-child(even){\n",
       "                background: #f3f1ff;\n",
       "            }\n",
       "            /* Tooltip container */\n",
       "            .djtooltip {\n",
       "            }\n",
       "            /* Tooltip text */\n",
       "            .djtooltip .djtooltiptext {\n",
       "                visibility: hidden;\n",
       "                width: 120px;\n",
       "                background-color: black;\n",
       "                color: #fff;\n",
       "                text-align: center;\n",
       "                padding: 5px 0;\n",
       "                border-radius: 6px;\n",
       "                /* Position the tooltip text - see examples below! */\n",
       "                position: absolute;\n",
       "                z-index: 1;\n",
       "            }\n",
       "            #primary {\n",
       "                font-weight: bold;\n",
       "                color: black;\n",
       "            }\n",
       "\n",
       "            #nonprimary {\n",
       "                font-weight: normal;\n",
       "                color: white;\n",
       "            }\n",
       "\n",
       "            /* Show the tooltip text when you mouse over the tooltip container */\n",
       "            .djtooltip:hover .djtooltiptext {\n",
       "                visibility: visible;\n",
       "            }\n",
       "        </style>\n",
       "        \n",
       "        <b></b>\n",
       "            <div style=\"max-height:1000px;max-width:1500px;overflow:auto;\">\n",
       "            <table border=\"1\" class=\"Relation\">\n",
       "                <thead> <tr style=\"text-align: right;\"> <th> <div class=\"djtooltip\">\n",
       "                                <p id=\"primary\">subject_id</p>\n",
       "                                <span class=\"djtooltiptext\"></span>\n",
       "                            </div></th><th><div class=\"djtooltip\">\n",
       "                                <p id=\"primary\">session</p>\n",
       "                                <span class=\"djtooltiptext\">session number</span>\n",
       "                            </div></th><th><div class=\"djtooltip\">\n",
       "                                <p id=\"primary\">trial</p>\n",
       "                                <span class=\"djtooltiptext\">trial number (1-based indexing)</span>\n",
       "                            </div></th><th><div class=\"djtooltip\">\n",
       "                                <p id=\"nonprimary\">start_time</p>\n",
       "                                <span class=\"djtooltiptext\">(s) relative to session beginning</span>\n",
       "                            </div></th><th><div class=\"djtooltip\">\n",
       "                                <p id=\"nonprimary\">stop_time</p>\n",
       "                                <span class=\"djtooltiptext\">(s) relative to session beginning</span>\n",
       "                            </div> </th> </tr> </thead>\n",
       "                <tbody> <tr> <td>vIRt49</td>\n",
       "<td>1</td>\n",
       "<td>0</td>\n",
       "<td>0.0000</td>\n",
       "<td>372.6174</td></tr><tr><td>vIRt49</td>\n",
       "<td>1</td>\n",
       "<td>1</td>\n",
       "<td>372.6174</td>\n",
       "<td>431.5374</td></tr><tr><td>vIRt49</td>\n",
       "<td>1</td>\n",
       "<td>2</td>\n",
       "<td>431.5374</td>\n",
       "<td>479.5032</td></tr><tr><td>vIRt49</td>\n",
       "<td>2</td>\n",
       "<td>0</td>\n",
       "<td>0.0000</td>\n",
       "<td>500.4295</td></tr><tr><td>vIRt49</td>\n",
       "<td>2</td>\n",
       "<td>1</td>\n",
       "<td>500.4295</td>\n",
       "<td>559.3494</td></tr><tr><td>vIRt49</td>\n",
       "<td>2</td>\n",
       "<td>2</td>\n",
       "<td>559.3494</td>\n",
       "<td>615.0220</td></tr><tr><td>vIRt49</td>\n",
       "<td>3</td>\n",
       "<td>0</td>\n",
       "<td>0.0000</td>\n",
       "<td>189.8119</td> </tr> </tbody>\n",
       "            </table>\n",
       "            <p>...</p>\n",
       "            <p>Total: 66</p></div>\n",
       "            "
      ],
      "text/plain": [
       "*subject_id    *session    *trial    start_time     stop_time    \n",
       "+------------+ +---------+ +-------+ +------------+ +-----------+\n",
       "vIRt49         1           0         0.0000         372.6174     \n",
       "vIRt49         1           1         372.6174       431.5374     \n",
       "vIRt49         1           2         431.5374       479.5032     \n",
       "vIRt49         2           0         0.0000         500.4295     \n",
       "vIRt49         2           1         500.4295       559.3494     \n",
       "vIRt49         2           2         559.3494       615.0220     \n",
       "vIRt49         3           0         0.0000         189.8119     \n",
       "   ...\n",
       " (Total: 66)"
      ]
     },
     "execution_count": 5,
     "metadata": {},
     "output_type": "execute_result"
    }
   ],
   "source": [
    "experiment.SessionTrial()"
   ]
  },
  {
   "cell_type": "code",
   "execution_count": 6,
   "metadata": {},
   "outputs": [
    {
     "data": {
      "text/html": [
       "\n",
       "        \n",
       "        <style type=\"text/css\">\n",
       "            .Relation{\n",
       "                border-collapse:collapse;\n",
       "            }\n",
       "            .Relation th{\n",
       "                background: #A0A0A0; color: #ffffff; padding:4px; border:#f0e0e0 1px solid;\n",
       "                font-weight: normal; font-family: monospace; font-size: 100%;\n",
       "            }\n",
       "            .Relation td{\n",
       "                padding:4px; border:#f0e0e0 1px solid; font-size:100%;\n",
       "            }\n",
       "            .Relation tr:nth-child(odd){\n",
       "                background: #ffffff;\n",
       "            }\n",
       "            .Relation tr:nth-child(even){\n",
       "                background: #f3f1ff;\n",
       "            }\n",
       "            /* Tooltip container */\n",
       "            .djtooltip {\n",
       "            }\n",
       "            /* Tooltip text */\n",
       "            .djtooltip .djtooltiptext {\n",
       "                visibility: hidden;\n",
       "                width: 120px;\n",
       "                background-color: black;\n",
       "                color: #fff;\n",
       "                text-align: center;\n",
       "                padding: 5px 0;\n",
       "                border-radius: 6px;\n",
       "                /* Position the tooltip text - see examples below! */\n",
       "                position: absolute;\n",
       "                z-index: 1;\n",
       "            }\n",
       "            #primary {\n",
       "                font-weight: bold;\n",
       "                color: black;\n",
       "            }\n",
       "\n",
       "            #nonprimary {\n",
       "                font-weight: normal;\n",
       "                color: white;\n",
       "            }\n",
       "\n",
       "            /* Show the tooltip text when you mouse over the tooltip container */\n",
       "            .djtooltip:hover .djtooltiptext {\n",
       "                visibility: visible;\n",
       "            }\n",
       "        </style>\n",
       "        \n",
       "        <b></b>\n",
       "            <div style=\"max-height:1000px;max-width:1500px;overflow:auto;\">\n",
       "            <table border=\"1\" class=\"Relation\">\n",
       "                <thead> <tr style=\"text-align: right;\"> <th> <div class=\"djtooltip\">\n",
       "                                <p id=\"primary\">subject_id</p>\n",
       "                                <span class=\"djtooltiptext\"></span>\n",
       "                            </div></th><th><div class=\"djtooltip\">\n",
       "                                <p id=\"primary\">session</p>\n",
       "                                <span class=\"djtooltiptext\">session number</span>\n",
       "                            </div></th><th><div class=\"djtooltip\">\n",
       "                                <p id=\"primary\">tracking_device</p>\n",
       "                                <span class=\"djtooltiptext\">device type/function</span>\n",
       "                            </div></th><th><div class=\"djtooltip\">\n",
       "                                <p id=\"primary\">whisker_idx</p>\n",
       "                                <span class=\"djtooltiptext\">0, 1, 2</span>\n",
       "                            </div></th><th><div class=\"djtooltip\">\n",
       "                                <p id=\"nonprimary\">angle</p>\n",
       "                                <span class=\"djtooltiptext\">mean angle at follicle</span>\n",
       "                            </div></th><th><div class=\"djtooltip\">\n",
       "                                <p id=\"nonprimary\">curvature</p>\n",
       "                                <span class=\"djtooltiptext\">mean curvature (1/mm)</span>\n",
       "                            </div></th><th><div class=\"djtooltip\">\n",
       "                                <p id=\"nonprimary\">face_x</p>\n",
       "                                <span class=\"djtooltiptext\">approximate center of whisker pad, x (px)</span>\n",
       "                            </div></th><th><div class=\"djtooltip\">\n",
       "                                <p id=\"nonprimary\">face_y</p>\n",
       "                                <span class=\"djtooltiptext\">approximate center of whisker pad, y (px)</span>\n",
       "                            </div></th><th><div class=\"djtooltip\">\n",
       "                                <p id=\"nonprimary\">follicle_x</p>\n",
       "                                <span class=\"djtooltiptext\">follicle position: x (px)</span>\n",
       "                            </div></th><th><div class=\"djtooltip\">\n",
       "                                <p id=\"nonprimary\">follicle_y</p>\n",
       "                                <span class=\"djtooltiptext\">follicle position: y (px)</span>\n",
       "                            </div></th><th><div class=\"djtooltip\">\n",
       "                                <p id=\"nonprimary\">tip_x</p>\n",
       "                                <span class=\"djtooltiptext\">tip position: x (px)</span>\n",
       "                            </div></th><th><div class=\"djtooltip\">\n",
       "                                <p id=\"nonprimary\">tip_y</p>\n",
       "                                <span class=\"djtooltiptext\">tip position: y (px)</span>\n",
       "                            </div> </th> </tr> </thead>\n",
       "                <tbody> <tr> <td>vIRt49</td>\n",
       "<td>1</td>\n",
       "<td>WT_Camera_Vincent 0</td>\n",
       "<td>0</td>\n",
       "<td>=BLOB=</td>\n",
       "<td>=BLOB=</td>\n",
       "<td>=BLOB=</td>\n",
       "<td>=BLOB=</td>\n",
       "<td>=BLOB=</td>\n",
       "<td>=BLOB=</td>\n",
       "<td>=BLOB=</td>\n",
       "<td>=BLOB=</td></tr><tr><td>vIRt49</td>\n",
       "<td>1</td>\n",
       "<td>WT_Camera_Vincent 0</td>\n",
       "<td>1</td>\n",
       "<td>=BLOB=</td>\n",
       "<td>=BLOB=</td>\n",
       "<td>=BLOB=</td>\n",
       "<td>=BLOB=</td>\n",
       "<td>=BLOB=</td>\n",
       "<td>=BLOB=</td>\n",
       "<td>=BLOB=</td>\n",
       "<td>=BLOB=</td></tr><tr><td>vIRt49</td>\n",
       "<td>1</td>\n",
       "<td>WT_Camera_Vincent 0</td>\n",
       "<td>2</td>\n",
       "<td>=BLOB=</td>\n",
       "<td>=BLOB=</td>\n",
       "<td>=BLOB=</td>\n",
       "<td>=BLOB=</td>\n",
       "<td>=BLOB=</td>\n",
       "<td>=BLOB=</td>\n",
       "<td>=BLOB=</td>\n",
       "<td>=BLOB=</td></tr><tr><td>vIRt49</td>\n",
       "<td>1</td>\n",
       "<td>WT_Camera_Vincent 0</td>\n",
       "<td>3</td>\n",
       "<td>=BLOB=</td>\n",
       "<td>=BLOB=</td>\n",
       "<td>=BLOB=</td>\n",
       "<td>=BLOB=</td>\n",
       "<td>=BLOB=</td>\n",
       "<td>=BLOB=</td>\n",
       "<td>=BLOB=</td>\n",
       "<td>=BLOB=</td></tr><tr><td>vIRt49</td>\n",
       "<td>1</td>\n",
       "<td>WT_Camera_Vincent 0</td>\n",
       "<td>4</td>\n",
       "<td>=BLOB=</td>\n",
       "<td>=BLOB=</td>\n",
       "<td>=BLOB=</td>\n",
       "<td>=BLOB=</td>\n",
       "<td>=BLOB=</td>\n",
       "<td>=BLOB=</td>\n",
       "<td>=BLOB=</td>\n",
       "<td>=BLOB=</td></tr><tr><td>vIRt49</td>\n",
       "<td>1</td>\n",
       "<td>WT_Camera_Vincent 0</td>\n",
       "<td>5</td>\n",
       "<td>=BLOB=</td>\n",
       "<td>=BLOB=</td>\n",
       "<td>=BLOB=</td>\n",
       "<td>=BLOB=</td>\n",
       "<td>=BLOB=</td>\n",
       "<td>=BLOB=</td>\n",
       "<td>=BLOB=</td>\n",
       "<td>=BLOB=</td></tr><tr><td>vIRt49</td>\n",
       "<td>1</td>\n",
       "<td>WT_Camera_Vincent 0</td>\n",
       "<td>6</td>\n",
       "<td>=BLOB=</td>\n",
       "<td>=BLOB=</td>\n",
       "<td>=BLOB=</td>\n",
       "<td>=BLOB=</td>\n",
       "<td>=BLOB=</td>\n",
       "<td>=BLOB=</td>\n",
       "<td>=BLOB=</td>\n",
       "<td>=BLOB=</td> </tr> </tbody>\n",
       "            </table>\n",
       "            <p>...</p>\n",
       "            <p>Total: 204</p></div>\n",
       "            "
      ],
      "text/plain": [
       "*subject_id    *session    *tracking_devi *whisker_idx   angle      curvature  face_x     face_y     follicle_x follicle_y tip_x      tip_y     \n",
       "+------------+ +---------+ +------------+ +------------+ +--------+ +--------+ +--------+ +--------+ +--------+ +--------+ +--------+ +--------+\n",
       "vIRt49         1           WT_Camera_Vinc 0              =BLOB=     =BLOB=     =BLOB=     =BLOB=     =BLOB=     =BLOB=     =BLOB=     =BLOB=    \n",
       "vIRt49         1           WT_Camera_Vinc 1              =BLOB=     =BLOB=     =BLOB=     =BLOB=     =BLOB=     =BLOB=     =BLOB=     =BLOB=    \n",
       "vIRt49         1           WT_Camera_Vinc 2              =BLOB=     =BLOB=     =BLOB=     =BLOB=     =BLOB=     =BLOB=     =BLOB=     =BLOB=    \n",
       "vIRt49         1           WT_Camera_Vinc 3              =BLOB=     =BLOB=     =BLOB=     =BLOB=     =BLOB=     =BLOB=     =BLOB=     =BLOB=    \n",
       "vIRt49         1           WT_Camera_Vinc 4              =BLOB=     =BLOB=     =BLOB=     =BLOB=     =BLOB=     =BLOB=     =BLOB=     =BLOB=    \n",
       "vIRt49         1           WT_Camera_Vinc 5              =BLOB=     =BLOB=     =BLOB=     =BLOB=     =BLOB=     =BLOB=     =BLOB=     =BLOB=    \n",
       "vIRt49         1           WT_Camera_Vinc 6              =BLOB=     =BLOB=     =BLOB=     =BLOB=     =BLOB=     =BLOB=     =BLOB=     =BLOB=    \n",
       "   ...\n",
       " (Total: 204)"
      ]
     },
     "execution_count": 6,
     "metadata": {},
     "output_type": "execute_result"
    }
   ],
   "source": [
    "tracking.Tracking.WhiskerTracking()"
   ]
  },
  {
   "cell_type": "code",
   "execution_count": 2,
   "metadata": {
    "scrolled": true
   },
   "outputs": [
    {
     "name": "stdout",
     "output_type": "stream",
     "text": [
      "V:\\Code\\DataJoint\\orofacial_pipeline\n"
     ]
    }
   ],
   "source": [
    "cd .."
   ]
  },
  {
   "cell_type": "code",
   "execution_count": 3,
   "metadata": {},
   "outputs": [
    {
     "name": "stdout",
     "output_type": "stream",
     "text": [
      "Connecting vincent@datajoint-db.orofacial-sensorimotor-circuits.org:3306\n"
     ]
    }
   ],
   "source": [
    "from pipeline.ingest import behavior_ingest, tracking_ingest"
   ]
  },
  {
   "cell_type": "code",
   "execution_count": 4,
   "metadata": {},
   "outputs": [
    {
     "data": {
      "text/html": [
       "\n",
       "        \n",
       "        <style type=\"text/css\">\n",
       "            .Relation{\n",
       "                border-collapse:collapse;\n",
       "            }\n",
       "            .Relation th{\n",
       "                background: #A0A0A0; color: #ffffff; padding:4px; border:#f0e0e0 1px solid;\n",
       "                font-weight: normal; font-family: monospace; font-size: 100%;\n",
       "            }\n",
       "            .Relation td{\n",
       "                padding:4px; border:#f0e0e0 1px solid; font-size:100%;\n",
       "            }\n",
       "            .Relation tr:nth-child(odd){\n",
       "                background: #ffffff;\n",
       "            }\n",
       "            .Relation tr:nth-child(even){\n",
       "                background: #f3f1ff;\n",
       "            }\n",
       "            /* Tooltip container */\n",
       "            .djtooltip {\n",
       "            }\n",
       "            /* Tooltip text */\n",
       "            .djtooltip .djtooltiptext {\n",
       "                visibility: hidden;\n",
       "                width: 120px;\n",
       "                background-color: black;\n",
       "                color: #fff;\n",
       "                text-align: center;\n",
       "                padding: 5px 0;\n",
       "                border-radius: 6px;\n",
       "                /* Position the tooltip text - see examples below! */\n",
       "                position: absolute;\n",
       "                z-index: 1;\n",
       "            }\n",
       "            #primary {\n",
       "                font-weight: bold;\n",
       "                color: black;\n",
       "            }\n",
       "\n",
       "            #nonprimary {\n",
       "                font-weight: normal;\n",
       "                color: white;\n",
       "            }\n",
       "\n",
       "            /* Show the tooltip text when you mouse over the tooltip container */\n",
       "            .djtooltip:hover .djtooltiptext {\n",
       "                visibility: visible;\n",
       "            }\n",
       "        </style>\n",
       "        \n",
       "        <b>job reservation table for `cosmo_v0_ingestion`</b>\n",
       "            <div style=\"max-height:1000px;max-width:1500px;overflow:auto;\">\n",
       "            <table border=\"1\" class=\"Relation\">\n",
       "                <thead> <tr style=\"text-align: right;\"> <th> <div class=\"djtooltip\">\n",
       "                                <p id=\"primary\">table_name</p>\n",
       "                                <span class=\"djtooltiptext\">className of the table</span>\n",
       "                            </div></th><th><div class=\"djtooltip\">\n",
       "                                <p id=\"primary\">key_hash</p>\n",
       "                                <span class=\"djtooltiptext\">key hash</span>\n",
       "                            </div></th><th><div class=\"djtooltip\">\n",
       "                                <p id=\"nonprimary\">status</p>\n",
       "                                <span class=\"djtooltiptext\">if tuple is missing, the job is available</span>\n",
       "                            </div></th><th><div class=\"djtooltip\">\n",
       "                                <p id=\"nonprimary\">key</p>\n",
       "                                <span class=\"djtooltiptext\">structure containing the key</span>\n",
       "                            </div></th><th><div class=\"djtooltip\">\n",
       "                                <p id=\"nonprimary\">error_message</p>\n",
       "                                <span class=\"djtooltiptext\">error message returned if failed</span>\n",
       "                            </div></th><th><div class=\"djtooltip\">\n",
       "                                <p id=\"nonprimary\">error_stack</p>\n",
       "                                <span class=\"djtooltiptext\">error stack if failed</span>\n",
       "                            </div></th><th><div class=\"djtooltip\">\n",
       "                                <p id=\"nonprimary\">user</p>\n",
       "                                <span class=\"djtooltiptext\">database user</span>\n",
       "                            </div></th><th><div class=\"djtooltip\">\n",
       "                                <p id=\"nonprimary\">host</p>\n",
       "                                <span class=\"djtooltiptext\">system hostname</span>\n",
       "                            </div></th><th><div class=\"djtooltip\">\n",
       "                                <p id=\"nonprimary\">pid</p>\n",
       "                                <span class=\"djtooltiptext\">system process id</span>\n",
       "                            </div></th><th><div class=\"djtooltip\">\n",
       "                                <p id=\"nonprimary\">connection_id</p>\n",
       "                                <span class=\"djtooltiptext\">connection_id()</span>\n",
       "                            </div></th><th><div class=\"djtooltip\">\n",
       "                                <p id=\"nonprimary\">timestamp</p>\n",
       "                                <span class=\"djtooltiptext\">automatic timestamp</span>\n",
       "                            </div> </th> </tr> </thead>\n",
       "                <tbody> <tr> <td>_behavior_ingestion</td>\n",
       "<td>9e4ae13e86ff5f8393dd1efb5b031b95</td>\n",
       "<td>error</td>\n",
       "<td>=BLOB=</td>\n",
       "<td>DuplicateError: Duplicate entry 'vIRt49-4-0' for key 'PRIMARY' : To ignore duplicate entries, set skip_duplicates=True in insert.</td>\n",
       "<td>=BLOB=</td>\n",
       "<td>vincent@152.16.191.74</td>\n",
       "<td>neuro-wang-15</td>\n",
       "<td>22820</td>\n",
       "<td>29400</td>\n",
       "<td>2020-10-05 15:41:21</td></tr><tr><td>_ephys_ingestion</td>\n",
       "<td>9e4ae13e86ff5f8393dd1efb5b031b95</td>\n",
       "<td>error</td>\n",
       "<td>=BLOB=</td>\n",
       "<td>FileNotFoundError: Unable to find one JRCLUST file - Found: []</td>\n",
       "<td>=BLOB=</td>\n",
       "<td>vincent@152.16.191.74</td>\n",
       "<td>neuro-wang-15</td>\n",
       "<td>22820</td>\n",
       "<td>29400</td>\n",
       "<td>2020-10-05 15:41:22</td> </tr> </tbody>\n",
       "            </table>\n",
       "            \n",
       "            <p>Total: 2</p></div>\n",
       "            "
      ],
      "text/plain": [
       "*table_name    *key_hash      status     key        error_message  error_stac user           host           pid       connection_id  timestamp     \n",
       "+------------+ +------------+ +--------+ +--------+ +------------+ +--------+ +------------+ +------------+ +-------+ +------------+ +------------+\n",
       "_behavior_inge 9e4ae13e86ff5f error      =BLOB=     DuplicateError =BLOB=     vincent@152.16 neuro-wang-15  22820     29400          2020-10-05 15:\n",
       "_ephys_ingesti 9e4ae13e86ff5f error      =BLOB=     FileNotFoundEr =BLOB=     vincent@152.16 neuro-wang-15  22820     29400          2020-10-05 15:\n",
       " (Total: 2)"
      ]
     },
     "execution_count": 4,
     "metadata": {},
     "output_type": "execute_result"
    }
   ],
   "source": [
    "behavior_ingest.schema.jobs"
   ]
  },
  {
   "cell_type": "code",
   "execution_count": 5,
   "metadata": {},
   "outputs": [
    {
     "data": {
      "text/plain": [
       "array([array(['Traceback (most recent call last):\\n  File \"V:\\\\ProgramData\\\\Anaconda3\\\\lib\\\\site-packages\\\\datajoint\\\\autopopulate.py\", line 154, in populate\\n    make(dict(key))\\n  File \"V:\\\\Code\\\\DataJoint\\\\orofacial_pipeline\\\\pipeline\\\\ingest\\\\behavior_ingest.py\", line 76, in make\\n    allow_direct_insert=True, ignore_extra_fields=True)\\n  File \"V:\\\\ProgramData\\\\Anaconda3\\\\lib\\\\site-packages\\\\datajoint\\\\table.py\", line 309, in insert\\n    ) from None\\ndatajoint.errors.DuplicateError: Duplicate entry \\'vIRt49-4-0\\' for key \\'PRIMARY\\' : To ignore duplicate entries, set skip_duplicates=True in insert.\\n'],\n",
       "      dtype='<U566'),\n",
       "       array(['Traceback (most recent call last):\\n  File \"V:\\\\ProgramData\\\\Anaconda3\\\\lib\\\\site-packages\\\\datajoint\\\\autopopulate.py\", line 154, in populate\\n    make(dict(key))\\n  File \"V:\\\\Code\\\\DataJoint\\\\orofacial_pipeline\\\\pipeline\\\\ingest\\\\ephys_ingest.py\", line 62, in make\\n    all_ephys_data = loader.load_ephys(session_dir, key[\\'subject_id\\'], session_basename)\\n  File \"V:\\\\Code\\\\DataJoint\\\\orofacial_pipeline\\\\pipeline\\\\ingest\\\\loaders\\\\vincent.py\", line 293, in load_ephys\\n    raise FileNotFoundError(f\\'Unable to find one JRCLUST file - Found: {jrclust_fp}\\')\\nFileNotFoundError: Unable to find one JRCLUST file - Found: []\\n'],\n",
       "      dtype='<U596')], dtype=object)"
      ]
     },
     "execution_count": 5,
     "metadata": {},
     "output_type": "execute_result"
    }
   ],
   "source": [
    "error_stacks = behavior_ingest.schema.jobs.fetch('error_stack')\n",
    "error_stacks"
   ]
  },
  {
   "cell_type": "code",
   "execution_count": 9,
   "metadata": {},
   "outputs": [],
   "source": [
    "behavior_ingest.schema.jobs.delete()"
   ]
  },
  {
   "cell_type": "code",
   "execution_count": null,
   "metadata": {},
   "outputs": [],
   "source": []
  }
 ],
 "metadata": {
  "kernelspec": {
   "display_name": "Python 3",
   "language": "python",
   "name": "python3"
  },
  "language_info": {
   "codemirror_mode": {
    "name": "ipython",
    "version": 3
   },
   "file_extension": ".py",
   "mimetype": "text/x-python",
   "name": "python",
   "nbconvert_exporter": "python",
   "pygments_lexer": "ipython3",
   "version": "3.7.7"
  }
 },
 "nbformat": 4,
 "nbformat_minor": 4
}
